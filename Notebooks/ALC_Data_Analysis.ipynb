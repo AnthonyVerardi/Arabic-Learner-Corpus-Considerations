{
 "cells": [
  {
   "cell_type": "markdown",
   "metadata": {},
   "source": [
    "# Arabic Learner Corpus Considerations: Data Analysis <a name=\"TOP\"></a>\n",
    "Anthony Verardi | a.verardi@pitt.edu | 3/17/2020 | University of Pittsburgh\n",
    "\n",
    "In this Notebook (which is a continuation of [ALC Data Organization](https://github.com/Data-Science-for-Linguists-2020/Arabic-Learner-Corpus-Considerations/blob/master/Notebooks/ALC_Data_Organization.ipynb)), I'll begin the process of preparing the data obtained from the [Arabic Learner Corpus](https://www.arabiclearnercorpus.com/) for analysis. I will provide some interpretation here in this Notebook, but for full analysis, please visit my [final_report.md](https://github.com/Data-Science-for-Linguists-2020/Arabic-Learner-Corpus-Considerations/blob/master/final_report.md) file in my project's [home repository](https://github.com/Data-Science-for-Linguists-2020/Arabic-Learner-Corpus-Considerations).\n",
    "\n",
    "Corpus credit to: \n",
    "> Alfaifi, A., Atwell, E. and Hedaya, I. (2014). Arabic Learner Corpus (ALC) v2: A New Written and Spoken Corpus of Arabic Learners. In the proceedings of the Learner Corpus Studies in Asia and the World (LCSAW) 2014, 31 May - 01 Jun 2014. Kobe, Japan. http://www.arabiclearnercorpus.com.\n",
    "\n",
    "**Table of Contents**\n",
    "1. [Data Preparation](#DP)\n",
    "1. [Visualizations of Subgroups](#subgroups)\n",
    "    1. [Visualizing Full Corpus Text Lengths](#FCTL)\n",
    "    1. [Visualizing Text Lengths by L1 Family](#TLL1)\n",
    "    1. [Visualizing Text Lengths by Nativeness](#TLNS) \n",
    "1. [MNB Classification of L1](#classifier)\n",
    "    1. [L1 Family MNB Classifier Tweaking with `GridsearchCV`](#GCV)\n",
    "    1. [L1 Family Final Classifier Training, Testing, and Evaluation](#FINMNB)\n",
    "    1. [Nativeness MNB Classifier Tweaking with `GridsearchCV`](#GCV2)\n",
    "    1. [Nativeness Final Classifier Training, Testing, and Evaluation](#FINMNB2)\n",
    "    \n",
    "## Section 1: Data Preparation <a name=\"DP\"></a>\n",
    "Before we can do anything, we'll need to import necessary packages and read in the dataframe that we curated in the [ALC Data Organization](https://github.com/Data-Science-for-Linguists-2020/Arabic-Learner-Corpus-Considerations/blob/master/Notebooks/ALC_Data_Organization.ipynb) Notebook."
   ]
  },
  {
   "cell_type": "code",
   "execution_count": 1,
   "metadata": {},
   "outputs": [],
   "source": [
    "# Importing necessary packages to begin analyzing our data\n",
    "\n",
    "import pickle\n",
    "import pandas as pd\n",
    "import numpy as np\n",
    "import matplotlib.pyplot as plt\n",
    "import seaborn as sns\n",
    "import sklearn\n",
    "\n",
    "from sklearn.feature_extraction.text import TfidfVectorizer\n",
    "from sklearn.metrics import accuracy_score, confusion_matrix\n",
    "from sklearn.model_selection import GridSearchCV, train_test_split\n",
    "from sklearn.naive_bayes import MultinomialNB\n",
    "from sklearn.pipeline import Pipeline, make_pipeline\n",
    "\n",
    "# Allowing for multiple lines of output\n",
    "from IPython.core.interactiveshell import InteractiveShell\n",
    "InteractiveShell.ast_node_interactivity = \"all\""
   ]
  },
  {
   "cell_type": "markdown",
   "metadata": {},
   "source": [
    "Now that we have our necessary packages ready to go, let's read in our `DataFrame` from the Organization Notebook and make certain that everything's still there."
   ]
  },
  {
   "cell_type": "code",
   "execution_count": 2,
   "metadata": {},
   "outputs": [],
   "source": [
    "df = pd.read_pickle(\"ALC_df.pkl\")"
   ]
  },
  {
   "cell_type": "code",
   "execution_count": 3,
   "metadata": {},
   "outputs": [
    {
     "data": {
      "text/html": [
       "<div>\n",
       "<style scoped>\n",
       "    .dataframe tbody tr th:only-of-type {\n",
       "        vertical-align: middle;\n",
       "    }\n",
       "\n",
       "    .dataframe tbody tr th {\n",
       "        vertical-align: top;\n",
       "    }\n",
       "\n",
       "    .dataframe thead th {\n",
       "        text-align: right;\n",
       "    }\n",
       "</style>\n",
       "<table border=\"1\" class=\"dataframe\">\n",
       "  <thead>\n",
       "    <tr style=\"text-align: right;\">\n",
       "      <th></th>\n",
       "      <th>Nativeness</th>\n",
       "      <th>L1</th>\n",
       "      <th>NumLangs</th>\n",
       "      <th>Nationality</th>\n",
       "      <th>Age</th>\n",
       "      <th>Gender</th>\n",
       "      <th>YearsStudy</th>\n",
       "      <th>GenLvl</th>\n",
       "      <th>LvlStdy</th>\n",
       "      <th>Title</th>\n",
       "      <th>Text</th>\n",
       "      <th>Genre</th>\n",
       "      <th>Mode</th>\n",
       "      <th>TextToks</th>\n",
       "      <th>TitleToks</th>\n",
       "      <th>TextLen</th>\n",
       "      <th>TitleLen</th>\n",
       "      <th>TTR</th>\n",
       "      <th>L1family</th>\n",
       "    </tr>\n",
       "    <tr>\n",
       "      <th>DocID</th>\n",
       "      <th></th>\n",
       "      <th></th>\n",
       "      <th></th>\n",
       "      <th></th>\n",
       "      <th></th>\n",
       "      <th></th>\n",
       "      <th></th>\n",
       "      <th></th>\n",
       "      <th></th>\n",
       "      <th></th>\n",
       "      <th></th>\n",
       "      <th></th>\n",
       "      <th></th>\n",
       "      <th></th>\n",
       "      <th></th>\n",
       "      <th></th>\n",
       "      <th></th>\n",
       "      <th></th>\n",
       "      <th></th>\n",
       "    </tr>\n",
       "  </thead>\n",
       "  <tbody>\n",
       "    <tr>\n",
       "      <td>S001_T1_M_Pre_NNAS_W_C</td>\n",
       "      <td>NNAS</td>\n",
       "      <td>Moore</td>\n",
       "      <td>4</td>\n",
       "      <td>Burkina Faso</td>\n",
       "      <td>20</td>\n",
       "      <td>Male</td>\n",
       "      <td>14</td>\n",
       "      <td>Pre-university</td>\n",
       "      <td>Diploma course</td>\n",
       "      <td>الرحلة إلى القرية لزيارة ذوي القربى</td>\n",
       "      <td>اعتدت الذهاب إلى قريتي في الإجازات الصيفيّة ال...</td>\n",
       "      <td>Narrative</td>\n",
       "      <td>Written</td>\n",
       "      <td>[اعتدت, الذهاب, إلى, قريتي, في, الإجازات, الصي...</td>\n",
       "      <td>[الرحلة, إلى, القرية, لزيارة, ذوي, القربى]</td>\n",
       "      <td>169</td>\n",
       "      <td>6</td>\n",
       "      <td>0.798817</td>\n",
       "      <td>NigerCongo</td>\n",
       "    </tr>\n",
       "    <tr>\n",
       "      <td>S001_T2_M_Pre_NNAS_W_C</td>\n",
       "      <td>NNAS</td>\n",
       "      <td>Moore</td>\n",
       "      <td>4</td>\n",
       "      <td>Burkina Faso</td>\n",
       "      <td>20</td>\n",
       "      <td>Male</td>\n",
       "      <td>14</td>\n",
       "      <td>Pre-university</td>\n",
       "      <td>Diploma course</td>\n",
       "      <td>الجمع بين العلم الشرعي والعلوم الدنيوية لحمزة ...</td>\n",
       "      <td>أحبّ أن ألتحق بكلِّية الشريعة بعد الانتها من ا...</td>\n",
       "      <td>Discussion</td>\n",
       "      <td>Written</td>\n",
       "      <td>[أحبّ, أن, ألتحق, بكلِّية, الشريعة, بعد, الانت...</td>\n",
       "      <td>[الجمع, بين, العلم, الشرعي, والعلوم, الدنيوية,...</td>\n",
       "      <td>161</td>\n",
       "      <td>9</td>\n",
       "      <td>0.844720</td>\n",
       "      <td>NigerCongo</td>\n",
       "    </tr>\n",
       "    <tr>\n",
       "      <td>S002_T1_M_Pre_NNAS_W_C</td>\n",
       "      <td>NNAS</td>\n",
       "      <td>Russian</td>\n",
       "      <td>5</td>\n",
       "      <td>Russian</td>\n",
       "      <td>25</td>\n",
       "      <td>Male</td>\n",
       "      <td>5</td>\n",
       "      <td>Pre-university</td>\n",
       "      <td>Diploma course</td>\n",
       "      <td>رحلة الحج المباركة</td>\n",
       "      <td>كتب الله لي أن أحج إلى بيته الحرام السنة الماض...</td>\n",
       "      <td>Narrative</td>\n",
       "      <td>Written</td>\n",
       "      <td>[كتب, الله, لي, أن, أحج, إلى, بيته, الحرام, ال...</td>\n",
       "      <td>[رحلة, الحج, المباركة]</td>\n",
       "      <td>317</td>\n",
       "      <td>3</td>\n",
       "      <td>0.637224</td>\n",
       "      <td>BaltoSlavic</td>\n",
       "    </tr>\n",
       "    <tr>\n",
       "      <td>S002_T2_M_Pre_NNAS_W_C</td>\n",
       "      <td>NNAS</td>\n",
       "      <td>Russian</td>\n",
       "      <td>5</td>\n",
       "      <td>Russian</td>\n",
       "      <td>25</td>\n",
       "      <td>Male</td>\n",
       "      <td>5</td>\n",
       "      <td>Pre-university</td>\n",
       "      <td>Diploma course</td>\n",
       "      <td>أكثر من التخصص</td>\n",
       "      <td>الحمد لله الذي وفقني لدراسة شرعية في جامعة الإ...</td>\n",
       "      <td>Discussion</td>\n",
       "      <td>Written</td>\n",
       "      <td>[الحمد, لله, الذي, وفقني, لدراسة, شرعية, في, ج...</td>\n",
       "      <td>[أكثر, من, التخصص]</td>\n",
       "      <td>173</td>\n",
       "      <td>3</td>\n",
       "      <td>0.757225</td>\n",
       "      <td>BaltoSlavic</td>\n",
       "    </tr>\n",
       "    <tr>\n",
       "      <td>S003_T1_M_Pre_NNAS_W_C</td>\n",
       "      <td>NNAS</td>\n",
       "      <td>Tatar</td>\n",
       "      <td>4</td>\n",
       "      <td>Russian</td>\n",
       "      <td>24</td>\n",
       "      <td>Male</td>\n",
       "      <td>6</td>\n",
       "      <td>Pre-university</td>\n",
       "      <td>Diploma course</td>\n",
       "      <td>رحلتي إلى الجبال</td>\n",
       "      <td>في أحد الأيام الصيف أخبرنا أبي بسفرٍ إلى الغاب...</td>\n",
       "      <td>Narrative</td>\n",
       "      <td>Written</td>\n",
       "      <td>[في, أحد, الأيام, الصيف, أخبرنا, أبي, بسفرٍ, إ...</td>\n",
       "      <td>[رحلتي, إلى, الجبال]</td>\n",
       "      <td>133</td>\n",
       "      <td>3</td>\n",
       "      <td>0.766917</td>\n",
       "      <td>Turkic</td>\n",
       "    </tr>\n",
       "  </tbody>\n",
       "</table>\n",
       "</div>"
      ],
      "text/plain": [
       "                       Nativeness       L1  NumLangs   Nationality Age Gender  \\\n",
       "DocID                                                                           \n",
       "S001_T1_M_Pre_NNAS_W_C       NNAS    Moore         4  Burkina Faso  20   Male   \n",
       "S001_T2_M_Pre_NNAS_W_C       NNAS    Moore         4  Burkina Faso  20   Male   \n",
       "S002_T1_M_Pre_NNAS_W_C       NNAS  Russian         5       Russian  25   Male   \n",
       "S002_T2_M_Pre_NNAS_W_C       NNAS  Russian         5       Russian  25   Male   \n",
       "S003_T1_M_Pre_NNAS_W_C       NNAS    Tatar         4       Russian  24   Male   \n",
       "\n",
       "                        YearsStudy          GenLvl         LvlStdy  \\\n",
       "DocID                                                                \n",
       "S001_T1_M_Pre_NNAS_W_C          14  Pre-university  Diploma course   \n",
       "S001_T2_M_Pre_NNAS_W_C          14  Pre-university  Diploma course   \n",
       "S002_T1_M_Pre_NNAS_W_C           5  Pre-university  Diploma course   \n",
       "S002_T2_M_Pre_NNAS_W_C           5  Pre-university  Diploma course   \n",
       "S003_T1_M_Pre_NNAS_W_C           6  Pre-university  Diploma course   \n",
       "\n",
       "                                                                    Title  \\\n",
       "DocID                                                                       \n",
       "S001_T1_M_Pre_NNAS_W_C                الرحلة إلى القرية لزيارة ذوي القربى   \n",
       "S001_T2_M_Pre_NNAS_W_C  الجمع بين العلم الشرعي والعلوم الدنيوية لحمزة ...   \n",
       "S002_T1_M_Pre_NNAS_W_C                                 رحلة الحج المباركة   \n",
       "S002_T2_M_Pre_NNAS_W_C                                     أكثر من التخصص   \n",
       "S003_T1_M_Pre_NNAS_W_C                                   رحلتي إلى الجبال   \n",
       "\n",
       "                                                                     Text  \\\n",
       "DocID                                                                       \n",
       "S001_T1_M_Pre_NNAS_W_C  اعتدت الذهاب إلى قريتي في الإجازات الصيفيّة ال...   \n",
       "S001_T2_M_Pre_NNAS_W_C  أحبّ أن ألتحق بكلِّية الشريعة بعد الانتها من ا...   \n",
       "S002_T1_M_Pre_NNAS_W_C  كتب الله لي أن أحج إلى بيته الحرام السنة الماض...   \n",
       "S002_T2_M_Pre_NNAS_W_C  الحمد لله الذي وفقني لدراسة شرعية في جامعة الإ...   \n",
       "S003_T1_M_Pre_NNAS_W_C  في أحد الأيام الصيف أخبرنا أبي بسفرٍ إلى الغاب...   \n",
       "\n",
       "                             Genre     Mode  \\\n",
       "DocID                                         \n",
       "S001_T1_M_Pre_NNAS_W_C   Narrative  Written   \n",
       "S001_T2_M_Pre_NNAS_W_C  Discussion  Written   \n",
       "S002_T1_M_Pre_NNAS_W_C   Narrative  Written   \n",
       "S002_T2_M_Pre_NNAS_W_C  Discussion  Written   \n",
       "S003_T1_M_Pre_NNAS_W_C   Narrative  Written   \n",
       "\n",
       "                                                                 TextToks  \\\n",
       "DocID                                                                       \n",
       "S001_T1_M_Pre_NNAS_W_C  [اعتدت, الذهاب, إلى, قريتي, في, الإجازات, الصي...   \n",
       "S001_T2_M_Pre_NNAS_W_C  [أحبّ, أن, ألتحق, بكلِّية, الشريعة, بعد, الانت...   \n",
       "S002_T1_M_Pre_NNAS_W_C  [كتب, الله, لي, أن, أحج, إلى, بيته, الحرام, ال...   \n",
       "S002_T2_M_Pre_NNAS_W_C  [الحمد, لله, الذي, وفقني, لدراسة, شرعية, في, ج...   \n",
       "S003_T1_M_Pre_NNAS_W_C  [في, أحد, الأيام, الصيف, أخبرنا, أبي, بسفرٍ, إ...   \n",
       "\n",
       "                                                                TitleToks  \\\n",
       "DocID                                                                       \n",
       "S001_T1_M_Pre_NNAS_W_C         [الرحلة, إلى, القرية, لزيارة, ذوي, القربى]   \n",
       "S001_T2_M_Pre_NNAS_W_C  [الجمع, بين, العلم, الشرعي, والعلوم, الدنيوية,...   \n",
       "S002_T1_M_Pre_NNAS_W_C                             [رحلة, الحج, المباركة]   \n",
       "S002_T2_M_Pre_NNAS_W_C                                 [أكثر, من, التخصص]   \n",
       "S003_T1_M_Pre_NNAS_W_C                               [رحلتي, إلى, الجبال]   \n",
       "\n",
       "                        TextLen  TitleLen       TTR     L1family  \n",
       "DocID                                                             \n",
       "S001_T1_M_Pre_NNAS_W_C      169         6  0.798817   NigerCongo  \n",
       "S001_T2_M_Pre_NNAS_W_C      161         9  0.844720   NigerCongo  \n",
       "S002_T1_M_Pre_NNAS_W_C      317         3  0.637224  BaltoSlavic  \n",
       "S002_T2_M_Pre_NNAS_W_C      173         3  0.757225  BaltoSlavic  \n",
       "S003_T1_M_Pre_NNAS_W_C      133         3  0.766917       Turkic  "
      ]
     },
     "execution_count": 3,
     "metadata": {},
     "output_type": "execute_result"
    }
   ],
   "source": [
    "df.head()"
   ]
  },
  {
   "cell_type": "markdown",
   "metadata": {},
   "source": [
    "Beautiful! Pickling works like a charm. On to the actual analysis portion of this Notebook.\n",
    "\n",
    "[Back to Top](#TOP)\n",
    "## Section 2: Visualizations of Subgroups <a name=\"subgroups\"></a>\n",
    "We already know from our organization notebook that the L1 data are not normally distributed, but what about the lengths of the texts themselves? I'm interested in knowing exactly what we'll be feeding our classifier as training data in part 2; intuition inclines me to believe that training a model on groups with not only different numbers of texts but also lengths of text might not bode well for results. We'll visualize both the raw counts for each to get an idea of how much data our classifier could potentially be working with in part 2 of this Notebook. First we'll just look at the raw values, then we'll break them out across L1 partitions and then by Nativeness.\n",
    "\n",
    "### 2A. Visualizing Full Corpus Text Lengths <a name=\"FCTL\"></a>"
   ]
  },
  {
   "cell_type": "code",
   "execution_count": 4,
   "metadata": {},
   "outputs": [
    {
     "data": {
      "text/plain": [
       "<matplotlib.axes._subplots.AxesSubplot at 0x1f75ae133c8>"
      ]
     },
     "execution_count": 4,
     "metadata": {},
     "output_type": "execute_result"
    },
    {
     "data": {
      "text/plain": [
       "Text(0.5, 1.0, 'Text Length Distribution for the Full ALC')"
      ]
     },
     "execution_count": 4,
     "metadata": {},
     "output_type": "execute_result"
    },
    {
     "data": {
      "text/plain": [
       "Text(0.5, 0, 'Text Length')"
      ]
     },
     "execution_count": 4,
     "metadata": {},
     "output_type": "execute_result"
    },
    {
     "data": {
      "image/png": "[encoded data removed]",
      "text/plain": [
       "<Figure size 432x288 with 1 Axes>"
      ]
     },
     "metadata": {
      "needs_background": "light"
     },
     "output_type": "display_data"
    }
   ],
   "source": [
    "fig, ax = plt.subplots()\n",
    "sns.distplot(df['TextLen'], ax=ax)\n",
    "plt.title(\"Text Length Distribution for the Full ALC\")\n",
    "plt.xlabel(\"Text Length\")\n",
    "plt.show()"
   ]
  },
  {
   "cell_type": "markdown",
   "metadata": {},
   "source": [
    "Not the prettiest plot in the world, but it gets the job done. Text length itself is most certainly skewed to the right when looking at the full group, with a majority of values clustered in the sub-1000 range and some outliers up to the 7000-character range. Let's recreate the same plot, but zoom in and use 1000 as an artificial cutoff point, just so that it's easier to examine the brunt of the data. \n"
   ]
  },
  {
   "cell_type": "code",
   "execution_count": 5,
   "metadata": {},
   "outputs": [
    {
     "data": {
      "text/plain": [
       "<matplotlib.axes._subplots.AxesSubplot at 0x1f75f1ae148>"
      ]
     },
     "execution_count": 5,
     "metadata": {},
     "output_type": "execute_result"
    },
    {
     "data": {
      "text/plain": [
       "Text(0.5, 1.0, 'Text Length Distribution for the Full ALC, Truncated')"
      ]
     },
     "execution_count": 5,
     "metadata": {},
     "output_type": "execute_result"
    },
    {
     "data": {
      "text/plain": [
       "Text(0.5, 0, 'Text Length')"
      ]
     },
     "execution_count": 5,
     "metadata": {},
     "output_type": "execute_result"
    },
    {
     "data": {
      "text/plain": [
       "(0, 1000)"
      ]
     },
     "execution_count": 5,
     "metadata": {},
     "output_type": "execute_result"
    },
    {
     "data": {
      "image/png": "[encoded data removed]",
      "text/plain": [
       "<Figure size 432x288 with 1 Axes>"
      ]
     },
     "metadata": {
      "needs_background": "light"
     },
     "output_type": "display_data"
    }
   ],
   "source": [
    "fig, ax = plt.subplots()\n",
    "sns.distplot(df['TextLen'], ax=ax)\n",
    "plt.title(\"Text Length Distribution for the Full ALC, Truncated\")\n",
    "plt.xlabel(\"Text Length\")\n",
    "ax.set_xlim(0,1000)\n",
    "plt.show()"
   ]
  },
  {
   "cell_type": "markdown",
   "metadata": {},
   "source": [
    "This is much easier to look at, and from this we can see that the distribution of the data (while still certainly right-skewed) centers around 200 tokens (recalling that our mean text length is 184 word tokens, this makes sense). The median value of 149 word tokens will be more helpful later, since this value is more useful as a measure of central tendency in right-skewed data.\n",
    "### 2B. Visualizing Text Lengths by L1 Family <a name=\"TLL1\"></a>\n",
    "Let's see what it looks like when we break things down by L1 family; for this, we'll use violin plots for ease of comparison. Unlike boxplots, violin plots also reflect the density of the values, with the vertical line above reflecting potential outlines/values that only occur a few times. We'll use the same cutoff of 1000 words here that we used above for the sake of readability."
   ]
  },
  {
   "cell_type": "code",
   "execution_count": 6,
   "metadata": {},
   "outputs": [
    {
     "data": {
      "text/plain": [
       "<Figure size 1080x360 with 0 Axes>"
      ]
     },
     "execution_count": 6,
     "metadata": {},
     "output_type": "execute_result"
    },
    {
     "data": {
      "text/plain": [
       "<seaborn.axisgrid.FacetGrid at 0x1f75f1ae988>"
      ]
     },
     "execution_count": 6,
     "metadata": {},
     "output_type": "execute_result"
    },
    {
     "data": {
      "text/plain": [
       "Text(0.5, 1, 'Text Length Distribution by L1 Family')"
      ]
     },
     "execution_count": 6,
     "metadata": {},
     "output_type": "execute_result"
    },
    {
     "data": {
      "text/plain": [
       "Text(0.5, 6.79999999999999, 'L1 Family')"
      ]
     },
     "execution_count": 6,
     "metadata": {},
     "output_type": "execute_result"
    },
    {
     "data": {
      "text/plain": [
       "Text(-2.450000000000003, 0.5, 'Text Length')"
      ]
     },
     "execution_count": 6,
     "metadata": {},
     "output_type": "execute_result"
    },
    {
     "data": {
      "text/plain": [
       "(0, 1000)"
      ]
     },
     "execution_count": 6,
     "metadata": {},
     "output_type": "execute_result"
    },
    {
     "data": {
      "text/plain": [
       "<Figure size 1080x360 with 0 Axes>"
      ]
     },
     "metadata": {},
     "output_type": "display_data"
    },
    {
     "data": {
      "image/png": "[encoded data removed]",
      "text/plain": [
       "<Figure size 1080x360 with 1 Axes>"
      ]
     },
     "metadata": {
      "needs_background": "light"
     },
     "output_type": "display_data"
    }
   ],
   "source": [
    "plt.figure(figsize=(15,5))\n",
    "sns.catplot(x=\"L1family\", y=\"TextLen\", kind='violin', height=5, aspect=3, data = df)\n",
    "plt.title(\"Text Length Distribution by L1 Family\")\n",
    "plt.xlabel(\"L1 Family\")\n",
    "plt.ylabel(\"Text Length\")\n",
    "plt.ylim(0, 1000)"
   ]
  },
  {
   "cell_type": "markdown",
   "metadata": {},
   "source": [
    "As mentioned above, violin plots reflect the density of the values that they represent. We can take the \"fattest\" part of the violin as the point around which most of the data in that category is clustered, with uniformity of thickness indicating how disperse the non-median observations are. These data appear to pattern similarly to each other, although BaltoSlavic, Cushitic, Arabic, and NiloSahar appear more similar to each other than to the rest of the data; Koreanic and Albanian are unique as well.\n",
    "### 2C. Visualizing Text Lengths by Nativeness <a name=\"TLNS\"></a>"
   ]
  },
  {
   "cell_type": "code",
   "execution_count": 7,
   "metadata": {},
   "outputs": [
    {
     "data": {
      "text/plain": [
       "<Figure size 720x720 with 0 Axes>"
      ]
     },
     "execution_count": 7,
     "metadata": {},
     "output_type": "execute_result"
    },
    {
     "data": {
      "text/plain": [
       "<seaborn.axisgrid.FacetGrid at 0x1f75f649208>"
      ]
     },
     "execution_count": 7,
     "metadata": {},
     "output_type": "execute_result"
    },
    {
     "data": {
      "text/plain": [
       "Text(0.5, 1, 'Text Length Distribution by Nativeness')"
      ]
     },
     "execution_count": 7,
     "metadata": {},
     "output_type": "execute_result"
    },
    {
     "data": {
      "text/plain": [
       "Text(-2.450000000000003, 0.5, 'Text Length')"
      ]
     },
     "execution_count": 7,
     "metadata": {},
     "output_type": "execute_result"
    },
    {
     "data": {
      "text/plain": [
       "(0, 1000)"
      ]
     },
     "execution_count": 7,
     "metadata": {},
     "output_type": "execute_result"
    },
    {
     "data": {
      "text/plain": [
       "<Figure size 720x720 with 0 Axes>"
      ]
     },
     "metadata": {},
     "output_type": "display_data"
    },
    {
     "data": {
      "image/png": "[encoded data removed]",
      "text/plain": [
       "<Figure size 360x360 with 1 Axes>"
      ]
     },
     "metadata": {
      "needs_background": "light"
     },
     "output_type": "display_data"
    }
   ],
   "source": [
    "plt.figure(figsize=(10,10))\n",
    "sns.catplot(x=\"Nativeness\", y=\"TextLen\", kind='violin', data = df)\n",
    "plt.title(\"Text Length Distribution by Nativeness\")\n",
    "plt.ylabel(\"Text Length\")\n",
    "plt.ylim(0, 1000)"
   ]
  },
  {
   "cell_type": "markdown",
   "metadata": {},
   "source": [
    "Based on these plots, it seems safe to conclude that as long as the training data we use is randomly distributed in a way that captures the same balance of the original corpus, the classifier should get relatively similar input from each of the L1 families. I'm also beginning to think that because the Nativeness comparison shows the most siimilar shapes for the violin plots, it may indicate that this is the best comparison to use for a classifier. Although we may lose granularity and the ability to look at how it handles particular language families (and accordingly lose insight into what features in their writing are informative), we will likely see a more accurate model that can give us better overall insights into non-native speaker learner writing compared to native speaker learner writing.\n",
    "\n",
    "[Back to Top](#TOP)\n",
    "## Section 3: MNB Classification of L1 <a name=\"classifier\"></a>\n",
    "In this section, we'll investigate whether this dataset is usable for training a Multinomial Naïve-Bayes classifier to predict first the L1 family of the writer based on their text sample and then separately the nativeness of the writer based, again, on their text.\n",
    "\n",
    "My line of thinking is that if the classifier is able to successfully separate the learners from the native speakers, the most informative features it uses may also be helpful for highlighting facets of language that may inform what instructors should focus on in pedagogical interventions for similar learners. Because there are so many different L1s represented in the dataset with so few participants per L1 in most cases, collapsing them into larger families seemed logical; we will therefore use the L1 family data. After this, we will try to build another classification model using the native speaker vs. non-native speaker \"Nativeness\" category as our label instead.\n",
    "\n",
    "### 3A. L1 Family MNB Classifier Tweaking with `GridsearchCV` <a name=\"GCV\"></a>\n",
    "First, we'll start off by using `GridsearchCV` to tweak the parameters of our model and find what works best."
   ]
  },
  {
   "cell_type": "code",
   "execution_count": 8,
   "metadata": {
    "scrolled": false
   },
   "outputs": [
    {
     "name": "stderr",
     "output_type": "stream",
     "text": [
      "C:\\ProgramData\\Anaconda3\\lib\\site-packages\\sklearn\\model_selection\\_search.py:814: DeprecationWarning: The default of the `iid` parameter will change from True to False in version 0.22 and will be removed in 0.24. This will change numeric results when test-set sizes are unequal.\n",
      "  DeprecationWarning)\n"
     ]
    },
    {
     "data": {
      "text/plain": [
       "GridSearchCV(cv=5, error_score='raise-deprecating',\n",
       "             estimator=Pipeline(memory=None,\n",
       "                                steps=[('tfIdf',\n",
       "                                        TfidfVectorizer(analyzer='word',\n",
       "                                                        binary=False,\n",
       "                                                        decode_error='strict',\n",
       "                                                        dtype=<class 'numpy.float64'>,\n",
       "                                                        encoding='utf-8',\n",
       "                                                        input='content',\n",
       "                                                        lowercase=True,\n",
       "                                                        max_df=1.0,\n",
       "                                                        max_features=None,\n",
       "                                                        min_df=1,\n",
       "                                                        ngram_range=(1, 1),\n",
       "                                                        norm='l2',\n",
       "                                                        preprocessor=None,\n",
       "                                                        smooth_idf=True,\n",
       "                                                        stop_word...\n",
       "                                                        use_idf=True,\n",
       "                                                        vocabulary=None)),\n",
       "                                       ('mnb',\n",
       "                                        MultinomialNB(alpha=1.0,\n",
       "                                                      class_prior=None,\n",
       "                                                      fit_prior=True))],\n",
       "                                verbose=False),\n",
       "             iid='warn', n_jobs=None,\n",
       "             param_grid={'mnb__fit_prior': (True, False),\n",
       "                         'tfIdf__max_df': [0.25, 0.5, 0.75],\n",
       "                         'tfIdf__max_features': [1000, 2000, 5000],\n",
       "                         'tfIdf__min_df': [1, 2, 3]},\n",
       "             pre_dispatch='2*n_jobs', refit=True, return_train_score=True,\n",
       "             scoring=None, verbose=0)"
      ]
     },
     "execution_count": 8,
     "metadata": {},
     "output_type": "execute_result"
    }
   ],
   "source": [
    "# Setting the type of classifier and vectorizer to use\n",
    "mnb = MultinomialNB()\n",
    "tfIdf = TfidfVectorizer()\n",
    "\n",
    "# Building a pipeline that will first vectorize the texts and second use them to build\n",
    "# a Multinomial Naive-Bayes classifier \n",
    "pipe = Pipeline(steps=[('tfIdf', tfIdf),('mnb',mnb)])\n",
    "\n",
    "# Using GridsearchCV to test different parameter levels\n",
    "clf = GridSearchCV(pipe, param_grid = {\"tfIdf__max_features\":[1000, 2000, 5000], \n",
    "                                      \"tfIdf__min_df\":[1,2,3],\n",
    "                                       \"tfIdf__max_df\":[.25, .5, .75],\n",
    "                                      \"mnb__fit_prior\":(True, False)}, cv=5, return_train_score=True)\n",
    "\n",
    "clf.fit(df.Text, df.L1family)"
   ]
  },
  {
   "cell_type": "code",
   "execution_count": 9,
   "metadata": {},
   "outputs": [
    {
     "data": {
      "text/plain": [
       "{'mnb__fit_prior': False,\n",
       " 'tfIdf__max_df': 0.25,\n",
       " 'tfIdf__max_features': 2000,\n",
       " 'tfIdf__min_df': 1}"
      ]
     },
     "execution_count": 9,
     "metadata": {},
     "output_type": "execute_result"
    }
   ],
   "source": [
    "# Fetching the best parameters from the above models\n",
    "clf.best_params_"
   ]
  },
  {
   "cell_type": "code",
   "execution_count": 10,
   "metadata": {
    "scrolled": false
   },
   "outputs": [
    {
     "data": {
      "text/html": [
       "<div>\n",
       "<style scoped>\n",
       "    .dataframe tbody tr th:only-of-type {\n",
       "        vertical-align: middle;\n",
       "    }\n",
       "\n",
       "    .dataframe tbody tr th {\n",
       "        vertical-align: top;\n",
       "    }\n",
       "\n",
       "    .dataframe thead th {\n",
       "        text-align: right;\n",
       "    }\n",
       "</style>\n",
       "<table border=\"1\" class=\"dataframe\">\n",
       "  <thead>\n",
       "    <tr style=\"text-align: right;\">\n",
       "      <th></th>\n",
       "      <th>mean_test_score</th>\n",
       "      <th>mean_train_score</th>\n",
       "    </tr>\n",
       "  </thead>\n",
       "  <tbody>\n",
       "    <tr>\n",
       "      <td>count</td>\n",
       "      <td>54.000000</td>\n",
       "      <td>54.000000</td>\n",
       "    </tr>\n",
       "    <tr>\n",
       "      <td>mean</td>\n",
       "      <td>0.557367</td>\n",
       "      <td>0.682918</td>\n",
       "    </tr>\n",
       "    <tr>\n",
       "      <td>std</td>\n",
       "      <td>0.032304</td>\n",
       "      <td>0.092228</td>\n",
       "    </tr>\n",
       "    <tr>\n",
       "      <td>min</td>\n",
       "      <td>0.504732</td>\n",
       "      <td>0.537691</td>\n",
       "    </tr>\n",
       "    <tr>\n",
       "      <td>25%</td>\n",
       "      <td>0.539590</td>\n",
       "      <td>0.609228</td>\n",
       "    </tr>\n",
       "    <tr>\n",
       "      <td>50%</td>\n",
       "      <td>0.552997</td>\n",
       "      <td>0.674288</td>\n",
       "    </tr>\n",
       "    <tr>\n",
       "      <td>75%</td>\n",
       "      <td>0.579022</td>\n",
       "      <td>0.768721</td>\n",
       "    </tr>\n",
       "    <tr>\n",
       "      <td>max</td>\n",
       "      <td>0.615773</td>\n",
       "      <td>0.811505</td>\n",
       "    </tr>\n",
       "  </tbody>\n",
       "</table>\n",
       "</div>"
      ],
      "text/plain": [
       "       mean_test_score  mean_train_score\n",
       "count        54.000000         54.000000\n",
       "mean          0.557367          0.682918\n",
       "std           0.032304          0.092228\n",
       "min           0.504732          0.537691\n",
       "25%           0.539590          0.609228\n",
       "50%           0.552997          0.674288\n",
       "75%           0.579022          0.768721\n",
       "max           0.615773          0.811505"
      ]
     },
     "execution_count": 10,
     "metadata": {},
     "output_type": "execute_result"
    }
   ],
   "source": [
    "# Building a dataframe of the entire results from each model\n",
    "df2 = pd.DataFrame.from_dict(clf.cv_results_)\n",
    "\n",
    "# Displaying aggregate descriptive statistics for all of the models \n",
    "df2[['mean_test_score', 'mean_train_score']].describe()"
   ]
  },
  {
   "cell_type": "markdown",
   "metadata": {},
   "source": [
    "The combination of parameters gave us a whopping 54 different permutations of our classifier, with a mean accuracy across all models of 55.74% and a standard deviation of 3.23%. Compared to the baseline of 49% of the samples being in Arabic to begin with, this isn't great performance. The max test score was 61.58% accuracy, which is better, but still not really anything to write home about when the version we trained on the ETS corpus was able to get into the 70s for accuracy with a much lower baseline."
   ]
  },
  {
   "cell_type": "markdown",
   "metadata": {},
   "source": [
    "### 3B. L1 Family Classifier Training, Testing, and Evaluation <a name=\"FINMNB\"></a>\n",
    "Now that we have our best parameters, we'll train one model that makes use of them so that we can then use a confusion matrix to look at the actual performance by L1 family."
   ]
  },
  {
   "cell_type": "code",
   "execution_count": 11,
   "metadata": {
    "scrolled": true
   },
   "outputs": [
    {
     "data": {
      "text/plain": [
       "Pipeline(memory=None,\n",
       "         steps=[('tfidfvectorizer',\n",
       "                 TfidfVectorizer(analyzer='word', binary=False,\n",
       "                                 decode_error='strict',\n",
       "                                 dtype=<class 'numpy.float64'>,\n",
       "                                 encoding='utf-8', input='content',\n",
       "                                 lowercase=True, max_df=0.25, max_features=2000,\n",
       "                                 min_df=1, ngram_range=(1, 1), norm='l2',\n",
       "                                 preprocessor=None, smooth_idf=True,\n",
       "                                 stop_words=None, strip_accents=None,\n",
       "                                 sublinear_tf=False,\n",
       "                                 token_pattern='(?u)\\\\b\\\\w\\\\w+\\\\b',\n",
       "                                 tokenizer=None, use_idf=True,\n",
       "                                 vocabulary=None)),\n",
       "                ('multinomialnb',\n",
       "                 MultinomialNB(alpha=1.0, class_prior=None, fit_prior=False))],\n",
       "         verbose=False)"
      ]
     },
     "execution_count": 11,
     "metadata": {},
     "output_type": "execute_result"
    }
   ],
   "source": [
    "text_train, text_test, y_train, y_test = train_test_split(df['Text'], df['L1family'], test_size = .2, random_state=0)\n",
    "\n",
    "MNB_model = make_pipeline(TfidfVectorizer(max_features = 2000, min_df=1, max_df=.25), \n",
    "                          MultinomialNB(fit_prior = False))\n",
    "\n",
    "MNB_model.fit(text_train, y_train)"
   ]
  },
  {
   "cell_type": "code",
   "execution_count": 12,
   "metadata": {},
   "outputs": [
    {
     "data": {
      "text/plain": [
       "0.6309148264984227"
      ]
     },
     "execution_count": 12,
     "metadata": {},
     "output_type": "execute_result"
    }
   ],
   "source": [
    "# Predictions\n",
    "predictions = MNB_model.predict(text_test)\n",
    "\n",
    "# Matrix\n",
    "matrix = confusion_matrix(y_test, predictions)\n",
    "\n",
    "# Accuracy assessment\n",
    "accuracy = accuracy_score(y_test, predictions)\n",
    "accuracy"
   ]
  },
  {
   "cell_type": "markdown",
   "metadata": {},
   "source": [
    "The accuracy of this model is actually slightly above the highest-scoring model we were able to get when using five-fold cross-validation earlier, which is likely due to the different training/testing split employed here. Let's take a look at how it did in detail using a confusion matrix."
   ]
  },
  {
   "cell_type": "code",
   "execution_count": 13,
   "metadata": {},
   "outputs": [
    {
     "data": {
      "text/plain": [
       "<Figure size 864x864 with 0 Axes>"
      ]
     },
     "execution_count": 13,
     "metadata": {},
     "output_type": "execute_result"
    },
    {
     "data": {
      "text/plain": [
       "(18.0, 0.0)"
      ]
     },
     "execution_count": 13,
     "metadata": {},
     "output_type": "execute_result"
    },
    {
     "data": {
      "text/plain": [
       "Text(0.5, 152.97257142857137, 'True L1 Family')"
      ]
     },
     "execution_count": 13,
     "metadata": {},
     "output_type": "execute_result"
    },
    {
     "data": {
      "text/plain": [
       "Text(87.0, 0.5, 'Predicted L1 Family')"
      ]
     },
     "execution_count": 13,
     "metadata": {},
     "output_type": "execute_result"
    },
    {
     "data": {
      "image/png": "[encoded data removed]",
      "text/plain": [
       "<Figure size 864x864 with 2 Axes>"
      ]
     },
     "metadata": {
      "needs_background": "light"
     },
     "output_type": "display_data"
    }
   ],
   "source": [
    "plt.figure(figsize=(12,12))\n",
    "\n",
    "ax2 = sns.heatmap(matrix.T, square=True, annot=True, fmt='d', cmap='Reds', annot_kws={\"size\": 14},\n",
    "            xticklabels= np.unique(df['L1family']), yticklabels= np.unique(df['L1family']))\n",
    "\n",
    "bottom, top = ax2.get_ylim()\n",
    "\n",
    "ax2.set_ylim(bottom + 0.5, top - 0.5) \n",
    "\n",
    "plt.xlabel('True L1 Family')\n",
    "plt.ylabel('Predicted L1 Family')\n",
    "plt.show()"
   ]
  },
  {
   "cell_type": "markdown",
   "metadata": {},
   "source": [
    "So, this leaves us with the preliminary question: how is this classifier doing? When considering that the Arabic L1 data make up 790 out of the 1,585 observations (~49.84%), an accuracy of around 63% does not seem great. We've got an almost 50% chance at getting the right label just by labeling everything as Arabic and calling it a day. Even after collpapsing the data into families, it doesn't seem like it's been able to overcome the sheer imbalance of data that's presented here for training a classifier. It does seem to be performing better on the Austronesian, Indo-Iranian, and the Kra-Dai families. More to come, but for preliminary results, I think things are shaping up.\n",
    "\n",
    "Finally, we'll try to look at the most informative features that our model gives us. "
   ]
  },
  {
   "cell_type": "code",
   "execution_count": 14,
   "metadata": {},
   "outputs": [
    {
     "name": "stdout",
     "output_type": "stream",
     "text": [
      "Albanian: وبعدها, أدرس, المكة, بلدي, نعم, الدين, هنا, ماء, حول, أريد, دين, جدا, العربية, مكة, اللغة, الى, المكرمة, الناس, زوجي, يعني\n",
      "Arabic: وفي, أو, رحلة, انا, الطب, المجال, اليوم, فيه, فيها, ولكن, جدا, وقد, لي, ومن, وكانت, ذهبنا, ان, وكان, التخصص, الى\n",
      "AustroAsiatic: تم, إليها, سيدنا, أريد, جدا, المعهد, التخطيط, إن, العمرة, تعليم, الحديقة, محمد, اللغة, أصدقاء, كلية, الكلية, العربية, الدعوة, ماليزيا, قد\n",
      "Austronesian: بعض, إن, الى, أريد, كلية, الإسلام, شاء, الشريعة, الكلية, مكة, بلدي, قد, اللغة, العربية, أو, الفلبين, فى, التخصص, الدين, لأن\n",
      "BaltoSlavic: وأن, إلي, كما, كثيرا, الحرارة, المسلمين, كلية, لأن, جدا, بلدي, أريد, الإسلامية, الشريعة, زوجتي, المدينة, بل, اللغة, الوقت, الناس, العربية\n",
      "Chadic: لكن, قبل, السلام, وفي, لغة, اللغة, عليه, بعض, بلدي, لما, مكة, وسلم, عنده, لله, محمد, الدين, الحمد, العربية, القرآن, الشريعة\n",
      "Cushitic: عبد, بلدي, البلاغة, كما, مادة, الإمام, جامعة, السعودية, المدينة, القرى, أو, هي, التخصص, الي, الأدب, ال, اللغة, العربية, يعني, جيبوتي\n",
      "Dravidian: لغة, العالمين, المسلمين, والسنة, وفي, لأن, الجامعة, وشاهدنا, صلاة, وغير, الإسلامية, أصول, ذهبنا, الشريعة, المنطقة, الإسلام, القرآن, بلدي, العربية, اللغة\n",
      "Germanic: مصر, لأن, السيارة, صديقي, إن, السفر, عندي, جامعة, لله, كثير, وصلت, شاء, الحمد, القرآن, بلدي, الإسلام, أريد, مكة, العربية, اللغة\n",
      "IndoIran: العلم, الدين, صلى, وسلم, قال, كلية, الإسلام, المدينة, عليه, القرآن, الحمد, لله, ذهبت, اللغة, التخصص, العربية, فى, لأن, الناس, الشريعة\n",
      "Italic: المجال, المستقبل, المسلمون, كثيرا, الشرعية, كلية, أريد, اللغة, الإسلام, أو, الدين, مكة, العلم, الشريعة, الي, العربية, المسلمين, لأن, بلدي, التخصص\n",
      "Koreanic: بيت, طبعا, العربية, وجدت, قبل, علم, ليست, وأبي, إليها, وحتى, جدا, أمي, البر, ذهبت, أو, أي, خلال, لذلك, كثيرا, سوريا\n",
      "KraDai: بلدي, أريد, كلية, ادرس, يعني, كيف, اللغة, المجال, الإسلامية, العربية, ال, رجعت, أصول, بلاد, أدرس, الدورة, ان, الدين, الى, ماليزيا\n",
      "NigerCongo: الإسلامية, فيه, إن, لي, المدينة, أو, وصلنا, القرآن, كلية, بعض, الدين, بلدي, الشريعة, أريد, مكة, لأن, التخصص, فى, العربية, اللغة\n",
      "NiloSahar: كثيرة, بلدي, المتخصصين, إذا, لأن, هم, لما, لذلك, بعض, توجد, التخصص, المجال, سبحانه, وتعالى, الكتاب, فيها, يعني, المنطقة, وكذلك, إن\n",
      "SinoTib: إن, الي, لله, وصلنا, عندما, جدا, الدعوة, المدينة, إلي, الجامعة, كثير, الإسلامية, مكة, الدين, الإسلام, كلية, الشريعة, اللغة, العربية, الصين\n",
      "Turkic: رمضان, صالح, الطريق, الدين, شاء, الشريعة, الناس, مكة, لأن, القرآن, بلدي, العلم, الحمد, الحرام, بعض, ان, لله, العربية, اللغة, لغة\n",
      "Unclassified: الرابع, إنشاء, كيف, أولا, الحرم, أشواط, لله, فى, بهذا, أريد, دراسة, ذهبنا, العربية, مكة, كلية, وصلنا, أدرس, الشريعة, لما, تعالى\n"
     ]
    }
   ],
   "source": [
    "# Thanks, stack overflow!\n",
    "# https://stackoverflow.com/questions/11116697/how-to-get-most-informative-features-for-scikit-learn-classifiers\n",
    "\n",
    "# modified to handle n-grams and flexible top number\n",
    "def print_top(vzr, clf, class_labels, n):\n",
    "    \"\"\"Prints features with the highest coefficient values, per class\"\"\"\n",
    "    feature_names = vzr.get_feature_names()\n",
    "    for i, class_label in enumerate(class_labels):\n",
    "        top = np.argsort(clf.coef_[i])[0-n:]\n",
    "        print(\"%s: %s\" % (class_label,\n",
    "              \", \".join(feature_names[j].replace(' ', '-') for j in top)))\n",
    "             # ^ comma-separate                      ^^^ hyphenate multi-word features (=n-grams) if any \n",
    "\n",
    "# Vectorizer and classifier are steps in the pipeline. Must retrieve. \n",
    "vzr = MNB_model.steps[0][1] \n",
    "clf2 = MNB_model.steps[1][1] \n",
    "\n",
    "print_top(vzr, clf2, clf2.classes_, 20)"
   ]
  },
  {
   "cell_type": "markdown",
   "metadata": {},
   "source": [
    "As noted above, a more robust analysis of the most informative features will be present in my final_report.md file, but briefly:\n",
    "* for native Arabic speakers, the most informative features display richer use of morphosyntactic elements and function words (differences in tense/aspect, prepositions) and fewer content words\n",
    "* non-native Arabic speaker most informative features are dominated by rudimentary, concrete nouns one might expect low-proficiency learners to know\n",
    "* there is an abundance of religious terms across the features by language\n",
    "\n",
    "Having worked with our L1 family data, we will now turn to condensing our categories even further and work with \"nativeness\" as our target label.\n",
    "### 3C. Nativeness MNB Classifier Tweaking with `GridsearchCV` <a name=\"GCV2\"></a>\n",
    "Here we'll see if reducing the language data categories further into native Arabic speaker learner of MSA and non-native Arabic speaker learner of MSA helps improve the accuracy of our model and what the most informative features look like as a result."
   ]
  },
  {
   "cell_type": "code",
   "execution_count": 15,
   "metadata": {},
   "outputs": [
    {
     "data": {
      "text/plain": [
       "GridSearchCV(cv=5, error_score='raise-deprecating',\n",
       "             estimator=Pipeline(memory=None,\n",
       "                                steps=[('tfIdf',\n",
       "                                        TfidfVectorizer(analyzer='word',\n",
       "                                                        binary=False,\n",
       "                                                        decode_error='strict',\n",
       "                                                        dtype=<class 'numpy.float64'>,\n",
       "                                                        encoding='utf-8',\n",
       "                                                        input='content',\n",
       "                                                        lowercase=True,\n",
       "                                                        max_df=1.0,\n",
       "                                                        max_features=None,\n",
       "                                                        min_df=1,\n",
       "                                                        ngram_range=(1, 1),\n",
       "                                                        norm='l2',\n",
       "                                                        preprocessor=None,\n",
       "                                                        smooth_idf=True,\n",
       "                                                        stop_word...\n",
       "                                                        use_idf=True,\n",
       "                                                        vocabulary=None)),\n",
       "                                       ('mnb',\n",
       "                                        MultinomialNB(alpha=1.0,\n",
       "                                                      class_prior=None,\n",
       "                                                      fit_prior=True))],\n",
       "                                verbose=False),\n",
       "             iid='warn', n_jobs=None,\n",
       "             param_grid={'mnb__fit_prior': (True, False),\n",
       "                         'tfIdf__max_df': [0.25, 0.5, 0.75],\n",
       "                         'tfIdf__max_features': [1000, 2000, 5000],\n",
       "                         'tfIdf__min_df': [1, 2, 3]},\n",
       "             pre_dispatch='2*n_jobs', refit=True, return_train_score=True,\n",
       "             scoring=None, verbose=0)"
      ]
     },
     "execution_count": 15,
     "metadata": {},
     "output_type": "execute_result"
    }
   ],
   "source": [
    "clf3 = GridSearchCV(pipe, param_grid = {\"tfIdf__max_features\":[1000, 2000, 5000], \n",
    "                                      \"tfIdf__min_df\":[1,2,3],\n",
    "                                       \"tfIdf__max_df\":[.25, .5, .75],\n",
    "                                      \"mnb__fit_prior\":(True, False)}, cv=5, return_train_score=True)\n",
    "\n",
    "clf3.fit(df.Text, df.Nativeness)"
   ]
  },
  {
   "cell_type": "code",
   "execution_count": 16,
   "metadata": {},
   "outputs": [
    {
     "data": {
      "text/plain": [
       "{'mnb__fit_prior': True,\n",
       " 'tfIdf__max_df': 0.5,\n",
       " 'tfIdf__max_features': 5000,\n",
       " 'tfIdf__min_df': 3}"
      ]
     },
     "execution_count": 16,
     "metadata": {},
     "output_type": "execute_result"
    }
   ],
   "source": [
    "clf3.best_params_"
   ]
  },
  {
   "cell_type": "markdown",
   "metadata": {},
   "source": [
    "It's interesting to note that right off the bat, all of our best parameters for classifying Nativeness vs. L1 family are completely different. Maximum and minimum document frequency as well as maximum features have all gone up, and \"True\" is now the best setting for whether the model should fit priors or not."
   ]
  },
  {
   "cell_type": "code",
   "execution_count": 17,
   "metadata": {
    "scrolled": false
   },
   "outputs": [
    {
     "data": {
      "text/html": [
       "<div>\n",
       "<style scoped>\n",
       "    .dataframe tbody tr th:only-of-type {\n",
       "        vertical-align: middle;\n",
       "    }\n",
       "\n",
       "    .dataframe tbody tr th {\n",
       "        vertical-align: top;\n",
       "    }\n",
       "\n",
       "    .dataframe thead th {\n",
       "        text-align: right;\n",
       "    }\n",
       "</style>\n",
       "<table border=\"1\" class=\"dataframe\">\n",
       "  <thead>\n",
       "    <tr style=\"text-align: right;\">\n",
       "      <th></th>\n",
       "      <th>mean_test_score</th>\n",
       "      <th>mean_train_score</th>\n",
       "    </tr>\n",
       "  </thead>\n",
       "  <tbody>\n",
       "    <tr>\n",
       "      <td>count</td>\n",
       "      <td>54.000000</td>\n",
       "      <td>54.000000</td>\n",
       "    </tr>\n",
       "    <tr>\n",
       "      <td>mean</td>\n",
       "      <td>0.912840</td>\n",
       "      <td>0.956835</td>\n",
       "    </tr>\n",
       "    <tr>\n",
       "      <td>std</td>\n",
       "      <td>0.009701</td>\n",
       "      <td>0.014493</td>\n",
       "    </tr>\n",
       "    <tr>\n",
       "      <td>min</td>\n",
       "      <td>0.897161</td>\n",
       "      <td>0.937539</td>\n",
       "    </tr>\n",
       "    <tr>\n",
       "      <td>25%</td>\n",
       "      <td>0.901104</td>\n",
       "      <td>0.938801</td>\n",
       "    </tr>\n",
       "    <tr>\n",
       "      <td>50%</td>\n",
       "      <td>0.918612</td>\n",
       "      <td>0.959069</td>\n",
       "    </tr>\n",
       "    <tr>\n",
       "      <td>75%</td>\n",
       "      <td>0.920347</td>\n",
       "      <td>0.972713</td>\n",
       "    </tr>\n",
       "    <tr>\n",
       "      <td>max</td>\n",
       "      <td>0.923659</td>\n",
       "      <td>0.973817</td>\n",
       "    </tr>\n",
       "  </tbody>\n",
       "</table>\n",
       "</div>"
      ],
      "text/plain": [
       "       mean_test_score  mean_train_score\n",
       "count        54.000000         54.000000\n",
       "mean          0.912840          0.956835\n",
       "std           0.009701          0.014493\n",
       "min           0.897161          0.937539\n",
       "25%           0.901104          0.938801\n",
       "50%           0.918612          0.959069\n",
       "75%           0.920347          0.972713\n",
       "max           0.923659          0.973817"
      ]
     },
     "execution_count": 17,
     "metadata": {},
     "output_type": "execute_result"
    }
   ],
   "source": [
    "df3 = pd.DataFrame.from_dict(clf3.cv_results_)\n",
    "\n",
    "df3[['mean_test_score', 'mean_train_score']].describe()"
   ]
  },
  {
   "cell_type": "markdown",
   "metadata": {},
   "source": [
    "Reducing the number of categories further to native speaker learner vs. non-native speaker learner has dramatically improved the accuracy of our classifier, with the top classifier model now clocking in at 92.37% accuracy. The mean accuracy of all 54 models is 91.28% with a standard deviation of .97%, meaning that these models overall are also more consistent in spite of different parameter configurations than the previous models. "
   ]
  },
  {
   "cell_type": "markdown",
   "metadata": {},
   "source": [
    "### 3D. Nativeness Classifier Training, Testing, and Evaluation <a name=\"FINMNB2\"></a>"
   ]
  },
  {
   "cell_type": "markdown",
   "metadata": {},
   "source": [
    "Just as above, we'll use these best parameters to train one final model to evaluate."
   ]
  },
  {
   "cell_type": "code",
   "execution_count": 18,
   "metadata": {
    "scrolled": true
   },
   "outputs": [
    {
     "data": {
      "text/plain": [
       "Pipeline(memory=None,\n",
       "         steps=[('tfidfvectorizer',\n",
       "                 TfidfVectorizer(analyzer='word', binary=False,\n",
       "                                 decode_error='strict',\n",
       "                                 dtype=<class 'numpy.float64'>,\n",
       "                                 encoding='utf-8', input='content',\n",
       "                                 lowercase=True, max_df=0.5, max_features=5000,\n",
       "                                 min_df=3, ngram_range=(1, 1), norm='l2',\n",
       "                                 preprocessor=None, smooth_idf=True,\n",
       "                                 stop_words=None, strip_accents=None,\n",
       "                                 sublinear_tf=False,\n",
       "                                 token_pattern='(?u)\\\\b\\\\w\\\\w+\\\\b',\n",
       "                                 tokenizer=None, use_idf=True,\n",
       "                                 vocabulary=None)),\n",
       "                ('multinomialnb',\n",
       "                 MultinomialNB(alpha=1.0, class_prior=None, fit_prior=True))],\n",
       "         verbose=False)"
      ]
     },
     "execution_count": 18,
     "metadata": {},
     "output_type": "execute_result"
    }
   ],
   "source": [
    "text_train2, text_test2, y_train2, y_test2 = train_test_split(df['Text'], df['Nativeness'], test_size = .2, random_state=0)\n",
    "\n",
    "MNB_model2 = make_pipeline(TfidfVectorizer(max_features = 5000, min_df=3, max_df=.5), \n",
    "                          MultinomialNB(fit_prior = True))\n",
    "\n",
    "MNB_model2.fit(text_train2, y_train2)"
   ]
  },
  {
   "cell_type": "code",
   "execution_count": 19,
   "metadata": {},
   "outputs": [
    {
     "data": {
      "text/plain": [
       "0.8990536277602523"
      ]
     },
     "execution_count": 19,
     "metadata": {},
     "output_type": "execute_result"
    }
   ],
   "source": [
    "# Predictions\n",
    "predictions2 = MNB_model2.predict(text_test2)\n",
    "\n",
    "# Matrix\n",
    "matrix2 = confusion_matrix(y_test2, predictions2)\n",
    "\n",
    "# Accuracy assessment\n",
    "accuracy2 = accuracy_score(y_test2, predictions2)\n",
    "accuracy2"
   ]
  },
  {
   "cell_type": "markdown",
   "metadata": {},
   "source": [
    "Our accuracy actually dipped here from what the top-performing model was able to achieve above! Again, this is likely due to differences in the training/testing partition."
   ]
  },
  {
   "cell_type": "code",
   "execution_count": 20,
   "metadata": {},
   "outputs": [
    {
     "data": {
      "text/plain": [
       "<Figure size 864x864 with 0 Axes>"
      ]
     },
     "execution_count": 20,
     "metadata": {},
     "output_type": "execute_result"
    },
    {
     "data": {
      "text/plain": [
       "(2.0, 0.0)"
      ]
     },
     "execution_count": 20,
     "metadata": {},
     "output_type": "execute_result"
    },
    {
     "data": {
      "text/plain": [
       "Text(0.5, 279.23999999999995, 'True Nativeness')"
      ]
     },
     "execution_count": 20,
     "metadata": {},
     "output_type": "execute_result"
    },
    {
     "data": {
      "text/plain": [
       "Text(87.0, 0.5, 'Predicted Nativeness')"
      ]
     },
     "execution_count": 20,
     "metadata": {},
     "output_type": "execute_result"
    },
    {
     "data": {
      "image/png": "[encoded data removed]",
      "text/plain": [
       "<Figure size 864x864 with 2 Axes>"
      ]
     },
     "metadata": {
      "needs_background": "light"
     },
     "output_type": "display_data"
    }
   ],
   "source": [
    "plt.figure(figsize=(12,12))\n",
    "\n",
    "ax3 = sns.heatmap(matrix2.T, square=True, annot=True, fmt='d', cmap='Reds', annot_kws={\"size\": 14},\n",
    "            xticklabels= np.unique(df['Nativeness']), yticklabels= np.unique(df['Nativeness']))\n",
    "\n",
    "bottom, top = ax3.get_ylim()\n",
    "\n",
    "ax3.set_ylim(bottom + 0.5, top - 0.5) \n",
    "\n",
    "plt.xlabel('True Nativeness')\n",
    "plt.ylabel('Predicted Nativeness')\n",
    "plt.show()"
   ]
  },
  {
   "cell_type": "markdown",
   "metadata": {},
   "source": [
    "As the much-higher accuracy indicates, this model is performing far better than the the L1 family classifier, although this is certainly comparing apples to oranges (or really, apples to some non-fruit object. They're doing very different things). Given that our baseline should actually be about the same (roughly 50%), this is a huge improvement. We may have lost granular detail, but hopefully this will allow us to draw some final conclusions about what can be taken away from this dataset and this task. Lastly, I'll grab the 20 most informative features again and compare them to the prior ones once I write my final analysis."
   ]
  },
  {
   "cell_type": "code",
   "execution_count": 21,
   "metadata": {},
   "outputs": [
    {
     "name": "stdout",
     "output_type": "stream",
     "text": [
      "Important words for native Arabic speaker learners:\n",
      "27.75 الى\n",
      "22.68 هذا\n",
      "22.58 التخصص\n",
      "20.65 ثم\n",
      "19.05 كان\n",
      "18.44 كانت\n",
      "17.77 وكان\n",
      "17.38 ما\n",
      "16.76 ذهبنا\n",
      "16.55 لا\n",
      "16.5 ان\n",
      "16.1 لم\n",
      "15.07 وكانت\n",
      "14.77 عن\n",
      "14.12 التي\n",
      "14.03 الرحلة\n",
      "13.62 بعد\n",
      "12.6 مع\n",
      "12.54 هناك\n",
      "12.38 ومن\n",
      "12.34 الذي\n",
      "12.14 لي\n",
      "11.38 وقد\n",
      "11.28 جدا\n",
      "11.13 يوم\n",
      "11.02 هو\n",
      "10.8 هذه\n",
      "10.68 ولكن\n",
      "10.53 كل\n",
      "10.48 فيها\n",
      "-----------------------------------------\n",
      "Important words for non-native Arabic speaker learners:\n",
      "27.6 العربية\n",
      "26.57 اللغة\n",
      "25.11 هذه\n",
      "22.49 هذا\n",
      "20.64 ثم\n",
      "19.83 بعد\n",
      "18.87 الشريعة\n",
      "18.47 لأن\n",
      "18.46 الرحلة\n",
      "17.17 التخصص\n",
      "16.88 الدين\n",
      "16.26 بلدي\n",
      "16.0 فى\n",
      "15.7 مكة\n",
      "15.67 لا\n",
      "15.64 كلية\n",
      "15.28 ما\n",
      "14.82 أريد\n",
      "14.78 ذلك\n",
      "14.34 الناس\n",
      "14.11 مع\n",
      "13.95 لله\n",
      "13.91 الإسلام\n",
      "13.28 كل\n",
      "13.15 أو\n",
      "12.86 القرآن\n",
      "12.86 الإسلامية\n",
      "12.79 أنا\n",
      "12.72 حتى\n",
      "12.42 وبعد\n"
     ]
    }
   ],
   "source": [
    "# Normally we would use the same function as above, but having a binary classifier (NNAS or NAS)\n",
    "# requires different code! This one just happens to come from the same Stack Overflow post\n",
    "# as above\n",
    "def important_features(vectorizer,classifier,n):\n",
    "    class_labels = classifier.classes_\n",
    "    feature_names =vectorizer.get_feature_names()\n",
    "\n",
    "    topn_class1 = sorted(zip(classifier.feature_count_[0], feature_names),reverse=True)[:n]\n",
    "    topn_class2 = sorted(zip(classifier.feature_count_[1], feature_names),reverse=True)[:n]\n",
    "\n",
    "    print(\"Important words for native Arabic speaker learners:\")\n",
    "\n",
    "    for coef, feat in topn_class1:\n",
    "        print(np.round(coef, decimals=2), feat)\n",
    "\n",
    "    print(\"-----------------------------------------\")\n",
    "    print(\"Important words for non-native Arabic speaker learners:\")\n",
    "\n",
    "    for coef, feat in topn_class2:\n",
    "        print(np.round(coef, decimals=2), feat)            \n",
    "\n",
    "vzr2 = MNB_model2.steps[0][1] \n",
    "clf4 = MNB_model2.steps[1][1]\n",
    "\n",
    "important_features(vzr2, clf4,30)"
   ]
  },
  {
   "cell_type": "markdown",
   "metadata": {},
   "source": [
    "With all of this data in hand, it's time to write my final report on this project! Again, you can find it as [final_report.md](https://github.com/Data-Science-for-Linguists-2020/Arabic-Learner-Corpus-Considerations/blob/master/final_report.md) in my project's [home repository](https://github.com/Data-Science-for-Linguists-2020/Arabic-Learner-Corpus-Considerations).\n",
    "\n",
    "[Back to Top](#TOP)"
   ]
  }
 ],
 "metadata": {
  "kernelspec": {
   "display_name": "Python 3",
   "language": "python",
   "name": "python3"
  },
  "language_info": {
   "codemirror_mode": {
    "name": "ipython",
    "version": 3
   },
   "file_extension": ".py",
   "mimetype": "text/x-python",
   "name": "python",
   "nbconvert_exporter": "python",
   "pygments_lexer": "ipython3",
   "version": "3.7.4"
  }
 },
 "nbformat": 4,
 "nbformat_minor": 2
}
