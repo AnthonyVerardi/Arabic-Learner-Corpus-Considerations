{
 "cells": [
  {
   "cell_type": "markdown",
   "metadata": {},
   "source": [
    "# Arabic Learner Corpus Considerations: Classifier Training and Data Analysis\n",
    "Anthony Verardi | a.verardi@pitt.edu | 3/17/2020 | University of Pittsburgh\n",
    "\n",
    "In this Notebook (which is a continuation of [ALC Data Organization](https://github.com/Data-Science-for-Linguists-2020/Arabic-Learner-Corpus-Considerations/blob/master/Notebooks/ALC_Data_Organization.ipynb)), I'll begin the process of analyzing the data obtained from the [Arabic Learner Corpus](https://www.arabiclearnercorpus.com/).\n",
    "\n",
    "Corpus credit to: Alfaifi, A., Atwell, E. and Hedaya, I. (2014). Arabic Learner Corpus (ALC) v2: A New Written and Spoken Corpus of Arabic Learners. In the proceedings of the Learner Corpus Studies in Asia and the World (LCSAW) 2014, 31 May - 01 Jun 2014. Kobe, Japan. http://www.arabiclearnercorpus.com.\n",
    "\n",
    "**Table of Contents**\n",
    "1. [Visualizations of Subgroups](#subgroups)\n",
    "1. [SVC Classification of L1](#classifier)"
   ]
  },
  {
   "cell_type": "code",
   "execution_count": 8,
   "metadata": {},
   "outputs": [],
   "source": [
    "# Importing necessary packages to begin analyzing our data\n",
    "\n",
    "import pickle\n",
    "import pandas as pd\n",
    "import numpy as np\n",
    "import matplotlib.pyplot as plt\n",
    "import seaborn as sns\n",
    "import sklearn\n",
    "\n",
    "from sklearn.feature_extraction.text import TfidfVectorizer\n",
    "from sklearn.metrics import accuracy_score, confusion_matrix\n",
    "from sklearn.model_selection import GridSearchCV, train_test_split\n",
    "from sklearn.pipeline import Pipeline, make_pipeline\n",
    "from sklearn.svm import SVC\n",
    "\n",
    "# Allowing for multiple lines of output\n",
    "from IPython.core.interactiveshell import InteractiveShell\n",
    "InteractiveShell.ast_node_interactivity = \"all\""
   ]
  },
  {
   "cell_type": "markdown",
   "metadata": {},
   "source": [
    "First and foremost, let's read in our `DataFrame` from the Organization Notebook and make certain that everything's still there."
   ]
  },
  {
   "cell_type": "code",
   "execution_count": 2,
   "metadata": {},
   "outputs": [],
   "source": [
    "df = pd.read_pickle(\"ALC_df.pkl\")"
   ]
  },
  {
   "cell_type": "code",
   "execution_count": 3,
   "metadata": {},
   "outputs": [
    {
     "data": {
      "text/html": [
       "<div>\n",
       "<style scoped>\n",
       "    .dataframe tbody tr th:only-of-type {\n",
       "        vertical-align: middle;\n",
       "    }\n",
       "\n",
       "    .dataframe tbody tr th {\n",
       "        vertical-align: top;\n",
       "    }\n",
       "\n",
       "    .dataframe thead th {\n",
       "        text-align: right;\n",
       "    }\n",
       "</style>\n",
       "<table border=\"1\" class=\"dataframe\">\n",
       "  <thead>\n",
       "    <tr style=\"text-align: right;\">\n",
       "      <th></th>\n",
       "      <th>L1</th>\n",
       "      <th>NumLangs</th>\n",
       "      <th>Nationality</th>\n",
       "      <th>Age</th>\n",
       "      <th>Gender</th>\n",
       "      <th>YearsStudy</th>\n",
       "      <th>GenLvl</th>\n",
       "      <th>LvlStdy</th>\n",
       "      <th>Title</th>\n",
       "      <th>Text</th>\n",
       "      <th>Genre</th>\n",
       "      <th>Mode</th>\n",
       "      <th>TextToks</th>\n",
       "      <th>TitleToks</th>\n",
       "      <th>TextLen</th>\n",
       "      <th>TitleLen</th>\n",
       "      <th>TTR</th>\n",
       "      <th>L1family</th>\n",
       "    </tr>\n",
       "    <tr>\n",
       "      <th>DocID</th>\n",
       "      <th></th>\n",
       "      <th></th>\n",
       "      <th></th>\n",
       "      <th></th>\n",
       "      <th></th>\n",
       "      <th></th>\n",
       "      <th></th>\n",
       "      <th></th>\n",
       "      <th></th>\n",
       "      <th></th>\n",
       "      <th></th>\n",
       "      <th></th>\n",
       "      <th></th>\n",
       "      <th></th>\n",
       "      <th></th>\n",
       "      <th></th>\n",
       "      <th></th>\n",
       "      <th></th>\n",
       "    </tr>\n",
       "  </thead>\n",
       "  <tbody>\n",
       "    <tr>\n",
       "      <td>S001_T1_M_Pre_NNAS_W_C</td>\n",
       "      <td>Moore</td>\n",
       "      <td>4</td>\n",
       "      <td>Burkina Faso</td>\n",
       "      <td>20</td>\n",
       "      <td>Male</td>\n",
       "      <td>14</td>\n",
       "      <td>Pre-university</td>\n",
       "      <td>Diploma course</td>\n",
       "      <td>الرحلة إلى القرية لزيارة ذوي القربى</td>\n",
       "      <td>اعتدت الذهاب إلى قريتي في الإجازات الصيفيّة ال...</td>\n",
       "      <td>Narrative</td>\n",
       "      <td>Written</td>\n",
       "      <td>[اعتدت, الذهاب, إلى, قريتي, في, الإجازات, الصي...</td>\n",
       "      <td>[الرحلة, إلى, القرية, لزيارة, ذوي, القربى]</td>\n",
       "      <td>169</td>\n",
       "      <td>6</td>\n",
       "      <td>0.798817</td>\n",
       "      <td>NigerCongo</td>\n",
       "    </tr>\n",
       "    <tr>\n",
       "      <td>S001_T2_M_Pre_NNAS_W_C</td>\n",
       "      <td>Moore</td>\n",
       "      <td>4</td>\n",
       "      <td>Burkina Faso</td>\n",
       "      <td>20</td>\n",
       "      <td>Male</td>\n",
       "      <td>14</td>\n",
       "      <td>Pre-university</td>\n",
       "      <td>Diploma course</td>\n",
       "      <td>الجمع بين العلم الشرعي والعلوم الدنيوية لحمزة ...</td>\n",
       "      <td>أحبّ أن ألتحق بكلِّية الشريعة بعد الانتها من ا...</td>\n",
       "      <td>Discussion</td>\n",
       "      <td>Written</td>\n",
       "      <td>[أحبّ, أن, ألتحق, بكلِّية, الشريعة, بعد, الانت...</td>\n",
       "      <td>[الجمع, بين, العلم, الشرعي, والعلوم, الدنيوية,...</td>\n",
       "      <td>161</td>\n",
       "      <td>9</td>\n",
       "      <td>0.844720</td>\n",
       "      <td>NigerCongo</td>\n",
       "    </tr>\n",
       "    <tr>\n",
       "      <td>S002_T1_M_Pre_NNAS_W_C</td>\n",
       "      <td>Russian</td>\n",
       "      <td>5</td>\n",
       "      <td>Russian</td>\n",
       "      <td>25</td>\n",
       "      <td>Male</td>\n",
       "      <td>5</td>\n",
       "      <td>Pre-university</td>\n",
       "      <td>Diploma course</td>\n",
       "      <td>رحلة الحج المباركة</td>\n",
       "      <td>كتب الله لي أن أحج إلى بيته الحرام السنة الماض...</td>\n",
       "      <td>Narrative</td>\n",
       "      <td>Written</td>\n",
       "      <td>[كتب, الله, لي, أن, أحج, إلى, بيته, الحرام, ال...</td>\n",
       "      <td>[رحلة, الحج, المباركة]</td>\n",
       "      <td>317</td>\n",
       "      <td>3</td>\n",
       "      <td>0.637224</td>\n",
       "      <td>BaltoSlavic</td>\n",
       "    </tr>\n",
       "    <tr>\n",
       "      <td>S002_T2_M_Pre_NNAS_W_C</td>\n",
       "      <td>Russian</td>\n",
       "      <td>5</td>\n",
       "      <td>Russian</td>\n",
       "      <td>25</td>\n",
       "      <td>Male</td>\n",
       "      <td>5</td>\n",
       "      <td>Pre-university</td>\n",
       "      <td>Diploma course</td>\n",
       "      <td>أكثر من التخصص</td>\n",
       "      <td>الحمد لله الذي وفقني لدراسة شرعية في جامعة الإ...</td>\n",
       "      <td>Discussion</td>\n",
       "      <td>Written</td>\n",
       "      <td>[الحمد, لله, الذي, وفقني, لدراسة, شرعية, في, ج...</td>\n",
       "      <td>[أكثر, من, التخصص]</td>\n",
       "      <td>173</td>\n",
       "      <td>3</td>\n",
       "      <td>0.757225</td>\n",
       "      <td>BaltoSlavic</td>\n",
       "    </tr>\n",
       "    <tr>\n",
       "      <td>S003_T1_M_Pre_NNAS_W_C</td>\n",
       "      <td>Tatar</td>\n",
       "      <td>4</td>\n",
       "      <td>Russian</td>\n",
       "      <td>24</td>\n",
       "      <td>Male</td>\n",
       "      <td>6</td>\n",
       "      <td>Pre-university</td>\n",
       "      <td>Diploma course</td>\n",
       "      <td>رحلتي إلى الجبال</td>\n",
       "      <td>في أحد الأيام الصيف أخبرنا أبي بسفرٍ إلى الغاب...</td>\n",
       "      <td>Narrative</td>\n",
       "      <td>Written</td>\n",
       "      <td>[في, أحد, الأيام, الصيف, أخبرنا, أبي, بسفرٍ, إ...</td>\n",
       "      <td>[رحلتي, إلى, الجبال]</td>\n",
       "      <td>133</td>\n",
       "      <td>3</td>\n",
       "      <td>0.766917</td>\n",
       "      <td>Turkic</td>\n",
       "    </tr>\n",
       "  </tbody>\n",
       "</table>\n",
       "</div>"
      ],
      "text/plain": [
       "                             L1  NumLangs   Nationality Age Gender  \\\n",
       "DocID                                                                \n",
       "S001_T1_M_Pre_NNAS_W_C    Moore         4  Burkina Faso  20   Male   \n",
       "S001_T2_M_Pre_NNAS_W_C    Moore         4  Burkina Faso  20   Male   \n",
       "S002_T1_M_Pre_NNAS_W_C  Russian         5       Russian  25   Male   \n",
       "S002_T2_M_Pre_NNAS_W_C  Russian         5       Russian  25   Male   \n",
       "S003_T1_M_Pre_NNAS_W_C    Tatar         4       Russian  24   Male   \n",
       "\n",
       "                        YearsStudy          GenLvl         LvlStdy  \\\n",
       "DocID                                                                \n",
       "S001_T1_M_Pre_NNAS_W_C          14  Pre-university  Diploma course   \n",
       "S001_T2_M_Pre_NNAS_W_C          14  Pre-university  Diploma course   \n",
       "S002_T1_M_Pre_NNAS_W_C           5  Pre-university  Diploma course   \n",
       "S002_T2_M_Pre_NNAS_W_C           5  Pre-university  Diploma course   \n",
       "S003_T1_M_Pre_NNAS_W_C           6  Pre-university  Diploma course   \n",
       "\n",
       "                                                                    Title  \\\n",
       "DocID                                                                       \n",
       "S001_T1_M_Pre_NNAS_W_C                الرحلة إلى القرية لزيارة ذوي القربى   \n",
       "S001_T2_M_Pre_NNAS_W_C  الجمع بين العلم الشرعي والعلوم الدنيوية لحمزة ...   \n",
       "S002_T1_M_Pre_NNAS_W_C                                 رحلة الحج المباركة   \n",
       "S002_T2_M_Pre_NNAS_W_C                                     أكثر من التخصص   \n",
       "S003_T1_M_Pre_NNAS_W_C                                   رحلتي إلى الجبال   \n",
       "\n",
       "                                                                     Text  \\\n",
       "DocID                                                                       \n",
       "S001_T1_M_Pre_NNAS_W_C  اعتدت الذهاب إلى قريتي في الإجازات الصيفيّة ال...   \n",
       "S001_T2_M_Pre_NNAS_W_C  أحبّ أن ألتحق بكلِّية الشريعة بعد الانتها من ا...   \n",
       "S002_T1_M_Pre_NNAS_W_C  كتب الله لي أن أحج إلى بيته الحرام السنة الماض...   \n",
       "S002_T2_M_Pre_NNAS_W_C  الحمد لله الذي وفقني لدراسة شرعية في جامعة الإ...   \n",
       "S003_T1_M_Pre_NNAS_W_C  في أحد الأيام الصيف أخبرنا أبي بسفرٍ إلى الغاب...   \n",
       "\n",
       "                             Genre     Mode  \\\n",
       "DocID                                         \n",
       "S001_T1_M_Pre_NNAS_W_C   Narrative  Written   \n",
       "S001_T2_M_Pre_NNAS_W_C  Discussion  Written   \n",
       "S002_T1_M_Pre_NNAS_W_C   Narrative  Written   \n",
       "S002_T2_M_Pre_NNAS_W_C  Discussion  Written   \n",
       "S003_T1_M_Pre_NNAS_W_C   Narrative  Written   \n",
       "\n",
       "                                                                 TextToks  \\\n",
       "DocID                                                                       \n",
       "S001_T1_M_Pre_NNAS_W_C  [اعتدت, الذهاب, إلى, قريتي, في, الإجازات, الصي...   \n",
       "S001_T2_M_Pre_NNAS_W_C  [أحبّ, أن, ألتحق, بكلِّية, الشريعة, بعد, الانت...   \n",
       "S002_T1_M_Pre_NNAS_W_C  [كتب, الله, لي, أن, أحج, إلى, بيته, الحرام, ال...   \n",
       "S002_T2_M_Pre_NNAS_W_C  [الحمد, لله, الذي, وفقني, لدراسة, شرعية, في, ج...   \n",
       "S003_T1_M_Pre_NNAS_W_C  [في, أحد, الأيام, الصيف, أخبرنا, أبي, بسفرٍ, إ...   \n",
       "\n",
       "                                                                TitleToks  \\\n",
       "DocID                                                                       \n",
       "S001_T1_M_Pre_NNAS_W_C         [الرحلة, إلى, القرية, لزيارة, ذوي, القربى]   \n",
       "S001_T2_M_Pre_NNAS_W_C  [الجمع, بين, العلم, الشرعي, والعلوم, الدنيوية,...   \n",
       "S002_T1_M_Pre_NNAS_W_C                             [رحلة, الحج, المباركة]   \n",
       "S002_T2_M_Pre_NNAS_W_C                                 [أكثر, من, التخصص]   \n",
       "S003_T1_M_Pre_NNAS_W_C                               [رحلتي, إلى, الجبال]   \n",
       "\n",
       "                        TextLen  TitleLen       TTR     L1family  \n",
       "DocID                                                             \n",
       "S001_T1_M_Pre_NNAS_W_C      169         6  0.798817   NigerCongo  \n",
       "S001_T2_M_Pre_NNAS_W_C      161         9  0.844720   NigerCongo  \n",
       "S002_T1_M_Pre_NNAS_W_C      317         3  0.637224  BaltoSlavic  \n",
       "S002_T2_M_Pre_NNAS_W_C      173         3  0.757225  BaltoSlavic  \n",
       "S003_T1_M_Pre_NNAS_W_C      133         3  0.766917       Turkic  "
      ]
     },
     "execution_count": 3,
     "metadata": {},
     "output_type": "execute_result"
    }
   ],
   "source": [
    "df.head()"
   ]
  },
  {
   "cell_type": "markdown",
   "metadata": {},
   "source": [
    "## WIP: Visualizations of Subgroups <a name=\"subgroups\"></a>\n",
    "**Need some more time to play with/refine these, I wanted to focus on the classifier first!**"
   ]
  },
  {
   "cell_type": "markdown",
   "metadata": {},
   "source": [
    "We already know from our organization notebook that the L1 data are not normally distributed, but what about the lengths of the texts themselves? We'll visualize both the raw counts and the TTR values for each. First we'll just look at the raw values, then we'll break them out across L1 partitions."
   ]
  },
  {
   "cell_type": "code",
   "execution_count": 4,
   "metadata": {},
   "outputs": [
    {
     "data": {
      "text/plain": [
       "<matplotlib.axes._subplots.AxesSubplot at 0x22110d1ddc8>"
      ]
     },
     "execution_count": 4,
     "metadata": {},
     "output_type": "execute_result"
    },
    {
     "data": {
      "text/plain": [
       "(0, 1000)"
      ]
     },
     "execution_count": 4,
     "metadata": {},
     "output_type": "execute_result"
    },
    {
     "data": {
      "image/png": "[encoded data removed]",
      "text/plain": [
       "<Figure size 432x288 with 1 Axes>"
      ]
     },
     "metadata": {
      "needs_background": "light"
     },
     "output_type": "display_data"
    }
   ],
   "source": [
    "fig, ax = plt.subplots()\n",
    "sns.distplot(df['TextLen'], ax=ax)\n",
    "ax.set_xlim(0,1000)\n",
    "plt.show()"
   ]
  },
  {
   "cell_type": "markdown",
   "metadata": {},
   "source": [
    "Not the prettiest plot in the world, but it gets the job done. Text length itself is most certainly skewed to the right, with a majority of values clustered in the 0-200 range. The density plot "
   ]
  },
  {
   "cell_type": "code",
   "execution_count": 5,
   "metadata": {},
   "outputs": [
    {
     "data": {
      "text/plain": [
       "<matplotlib.axes._subplots.AxesSubplot at 0x22117823048>"
      ]
     },
     "execution_count": 5,
     "metadata": {},
     "output_type": "execute_result"
    },
    {
     "data": {
      "image/png": "[encoded data removed]",
      "text/plain": [
       "<Figure size 432x288 with 1 Axes>"
      ]
     },
     "metadata": {
      "needs_background": "light"
     },
     "output_type": "display_data"
    }
   ],
   "source": [
    "df['TTR'].plot.hist()"
   ]
  },
  {
   "cell_type": "code",
   "execution_count": 6,
   "metadata": {},
   "outputs": [
    {
     "data": {
      "text/plain": [
       "<matplotlib.axes._subplots.AxesSubplot at 0x22117955a48>"
      ]
     },
     "execution_count": 6,
     "metadata": {},
     "output_type": "execute_result"
    },
    {
     "data": {
      "image/png": "[encoded data removed]",
      "text/plain": [
       "<Figure size 432x288 with 1 Axes>"
      ]
     },
     "metadata": {
      "needs_background": "light"
     },
     "output_type": "display_data"
    }
   ],
   "source": [
    "df['TTR'].plot(kind=\"density\")"
   ]
  },
  {
   "cell_type": "markdown",
   "metadata": {},
   "source": [
    "## SVC Classification of L1 <a name=\"classifier\"></a>\n",
    "In this section, we'll investigate whether this dataset, with some tweaking, is usable for training a classifier to predict the L1 family of the writer based on their text sample. Because there are so many different L1s represented in the dataset with so few participants per L1 in most cases, collapsing them into larger families seemed logical. First, we'll start off by using `GridsearchCV` to tweak the parameters fo our model and find what works best."
   ]
  },
  {
   "cell_type": "code",
   "execution_count": 9,
   "metadata": {},
   "outputs": [
    {
     "name": "stderr",
     "output_type": "stream",
     "text": [
      "C:\\ProgramData\\Anaconda3\\lib\\site-packages\\sklearn\\model_selection\\_search.py:814: DeprecationWarning: The default of the `iid` parameter will change from True to False in version 0.22 and will be removed in 0.24. This will change numeric results when test-set sizes are unequal.\n",
      "  DeprecationWarning)\n"
     ]
    },
    {
     "data": {
      "text/plain": [
       "GridSearchCV(cv=5, error_score='raise-deprecating',\n",
       "             estimator=Pipeline(memory=None,\n",
       "                                steps=[('tfIdf',\n",
       "                                        TfidfVectorizer(analyzer='word',\n",
       "                                                        binary=False,\n",
       "                                                        decode_error='strict',\n",
       "                                                        dtype=<class 'numpy.float64'>,\n",
       "                                                        encoding='utf-8',\n",
       "                                                        input='content',\n",
       "                                                        lowercase=True,\n",
       "                                                        max_df=1.0,\n",
       "                                                        max_features=None,\n",
       "                                                        min_df=1,\n",
       "                                                        ngram_range=(1, 1),\n",
       "                                                        norm='l2',\n",
       "                                                        preprocessor=None,\n",
       "                                                        smooth_idf=True,\n",
       "                                                        stop_word...\n",
       "                                            decision_function_shape='ovr',\n",
       "                                            degree=3, gamma='auto',\n",
       "                                            kernel='rbf', max_iter=-1,\n",
       "                                            probability=False,\n",
       "                                            random_state=None, shrinking=True,\n",
       "                                            tol=0.001, verbose=False))],\n",
       "                                verbose=False),\n",
       "             iid='warn', n_jobs=None,\n",
       "             param_grid={'tfIdf__max_df': [0.5, 0.75],\n",
       "                         'tfIdf__max_features': [2000, 5000],\n",
       "                         'tfIdf__min_df': [1, 2, 3]},\n",
       "             pre_dispatch='2*n_jobs', refit=True, return_train_score=True,\n",
       "             scoring=None, verbose=0)"
      ]
     },
     "execution_count": 9,
     "metadata": {},
     "output_type": "execute_result"
    }
   ],
   "source": [
    "svc = sklearn.svm.SVC(kernel='rbf', C=1E5, gamma=\"auto\")\n",
    "tfIdf = TfidfVectorizer()\n",
    "\n",
    "pipe = Pipeline(steps=[('tfIdf', tfIdf),('svc',svc)])\n",
    "\n",
    "clf = GridSearchCV(pipe, param_grid = {\"tfIdf__max_features\":[2000, 5000], \n",
    "                                      \"tfIdf__min_df\":[1,2,3],\n",
    "                                       \"tfIdf__max_df\":[.5,.75]}, cv=5, return_train_score=True)\n",
    "\n",
    "clf.fit(df.Text, df.L1family)"
   ]
  },
  {
   "cell_type": "code",
   "execution_count": 10,
   "metadata": {},
   "outputs": [
    {
     "data": {
      "text/plain": [
       "{'tfIdf__max_df': 0.75, 'tfIdf__max_features': 5000, 'tfIdf__min_df': 2}"
      ]
     },
     "execution_count": 10,
     "metadata": {},
     "output_type": "execute_result"
    }
   ],
   "source": [
    "clf.best_params_"
   ]
  },
  {
   "cell_type": "code",
   "execution_count": 11,
   "metadata": {
    "scrolled": false
   },
   "outputs": [
    {
     "data": {
      "text/html": [
       "<div>\n",
       "<style scoped>\n",
       "    .dataframe tbody tr th:only-of-type {\n",
       "        vertical-align: middle;\n",
       "    }\n",
       "\n",
       "    .dataframe tbody tr th {\n",
       "        vertical-align: top;\n",
       "    }\n",
       "\n",
       "    .dataframe thead th {\n",
       "        text-align: right;\n",
       "    }\n",
       "</style>\n",
       "<table border=\"1\" class=\"dataframe\">\n",
       "  <thead>\n",
       "    <tr style=\"text-align: right;\">\n",
       "      <th></th>\n",
       "      <th>mean_fit_time</th>\n",
       "      <th>std_fit_time</th>\n",
       "      <th>mean_score_time</th>\n",
       "      <th>std_score_time</th>\n",
       "      <th>param_tfIdf__max_df</th>\n",
       "      <th>param_tfIdf__max_features</th>\n",
       "      <th>param_tfIdf__min_df</th>\n",
       "      <th>params</th>\n",
       "      <th>split0_test_score</th>\n",
       "      <th>split1_test_score</th>\n",
       "      <th>...</th>\n",
       "      <th>mean_test_score</th>\n",
       "      <th>std_test_score</th>\n",
       "      <th>rank_test_score</th>\n",
       "      <th>split0_train_score</th>\n",
       "      <th>split1_train_score</th>\n",
       "      <th>split2_train_score</th>\n",
       "      <th>split3_train_score</th>\n",
       "      <th>split4_train_score</th>\n",
       "      <th>mean_train_score</th>\n",
       "      <th>std_train_score</th>\n",
       "    </tr>\n",
       "  </thead>\n",
       "  <tbody>\n",
       "    <tr>\n",
       "      <td>0</td>\n",
       "      <td>2.666517</td>\n",
       "      <td>0.158380</td>\n",
       "      <td>0.336967</td>\n",
       "      <td>0.031486</td>\n",
       "      <td>0.5</td>\n",
       "      <td>2000</td>\n",
       "      <td>1</td>\n",
       "      <td>{'tfIdf__max_df': 0.5, 'tfIdf__max_features': ...</td>\n",
       "      <td>0.623457</td>\n",
       "      <td>0.621875</td>\n",
       "      <td>...</td>\n",
       "      <td>0.632808</td>\n",
       "      <td>0.011957</td>\n",
       "      <td>12</td>\n",
       "      <td>1.0</td>\n",
       "      <td>1.0</td>\n",
       "      <td>1.0</td>\n",
       "      <td>1.0</td>\n",
       "      <td>1.0</td>\n",
       "      <td>1.0</td>\n",
       "      <td>0.0</td>\n",
       "    </tr>\n",
       "    <tr>\n",
       "      <td>1</td>\n",
       "      <td>2.641460</td>\n",
       "      <td>0.159568</td>\n",
       "      <td>0.316701</td>\n",
       "      <td>0.022883</td>\n",
       "      <td>0.5</td>\n",
       "      <td>2000</td>\n",
       "      <td>2</td>\n",
       "      <td>{'tfIdf__max_df': 0.5, 'tfIdf__max_features': ...</td>\n",
       "      <td>0.626543</td>\n",
       "      <td>0.621875</td>\n",
       "      <td>...</td>\n",
       "      <td>0.634069</td>\n",
       "      <td>0.011392</td>\n",
       "      <td>11</td>\n",
       "      <td>1.0</td>\n",
       "      <td>1.0</td>\n",
       "      <td>1.0</td>\n",
       "      <td>1.0</td>\n",
       "      <td>1.0</td>\n",
       "      <td>1.0</td>\n",
       "      <td>0.0</td>\n",
       "    </tr>\n",
       "    <tr>\n",
       "      <td>2</td>\n",
       "      <td>2.623243</td>\n",
       "      <td>0.064901</td>\n",
       "      <td>0.506667</td>\n",
       "      <td>0.406354</td>\n",
       "      <td>0.5</td>\n",
       "      <td>2000</td>\n",
       "      <td>3</td>\n",
       "      <td>{'tfIdf__max_df': 0.5, 'tfIdf__max_features': ...</td>\n",
       "      <td>0.623457</td>\n",
       "      <td>0.625000</td>\n",
       "      <td>...</td>\n",
       "      <td>0.635331</td>\n",
       "      <td>0.013857</td>\n",
       "      <td>9</td>\n",
       "      <td>1.0</td>\n",
       "      <td>1.0</td>\n",
       "      <td>1.0</td>\n",
       "      <td>1.0</td>\n",
       "      <td>1.0</td>\n",
       "      <td>1.0</td>\n",
       "      <td>0.0</td>\n",
       "    </tr>\n",
       "    <tr>\n",
       "      <td>3</td>\n",
       "      <td>3.848887</td>\n",
       "      <td>0.101992</td>\n",
       "      <td>0.369962</td>\n",
       "      <td>0.013280</td>\n",
       "      <td>0.5</td>\n",
       "      <td>5000</td>\n",
       "      <td>1</td>\n",
       "      <td>{'tfIdf__max_df': 0.5, 'tfIdf__max_features': ...</td>\n",
       "      <td>0.629630</td>\n",
       "      <td>0.621875</td>\n",
       "      <td>...</td>\n",
       "      <td>0.644164</td>\n",
       "      <td>0.017722</td>\n",
       "      <td>2</td>\n",
       "      <td>1.0</td>\n",
       "      <td>1.0</td>\n",
       "      <td>1.0</td>\n",
       "      <td>1.0</td>\n",
       "      <td>1.0</td>\n",
       "      <td>1.0</td>\n",
       "      <td>0.0</td>\n",
       "    </tr>\n",
       "    <tr>\n",
       "      <td>4</td>\n",
       "      <td>3.899492</td>\n",
       "      <td>0.125194</td>\n",
       "      <td>0.370708</td>\n",
       "      <td>0.014967</td>\n",
       "      <td>0.5</td>\n",
       "      <td>5000</td>\n",
       "      <td>2</td>\n",
       "      <td>{'tfIdf__max_df': 0.5, 'tfIdf__max_features': ...</td>\n",
       "      <td>0.638889</td>\n",
       "      <td>0.612500</td>\n",
       "      <td>...</td>\n",
       "      <td>0.643533</td>\n",
       "      <td>0.019537</td>\n",
       "      <td>4</td>\n",
       "      <td>1.0</td>\n",
       "      <td>1.0</td>\n",
       "      <td>1.0</td>\n",
       "      <td>1.0</td>\n",
       "      <td>1.0</td>\n",
       "      <td>1.0</td>\n",
       "      <td>0.0</td>\n",
       "    </tr>\n",
       "    <tr>\n",
       "      <td>5</td>\n",
       "      <td>3.857989</td>\n",
       "      <td>0.123629</td>\n",
       "      <td>0.394317</td>\n",
       "      <td>0.032608</td>\n",
       "      <td>0.5</td>\n",
       "      <td>5000</td>\n",
       "      <td>3</td>\n",
       "      <td>{'tfIdf__max_df': 0.5, 'tfIdf__max_features': ...</td>\n",
       "      <td>0.623457</td>\n",
       "      <td>0.628125</td>\n",
       "      <td>...</td>\n",
       "      <td>0.641640</td>\n",
       "      <td>0.017984</td>\n",
       "      <td>6</td>\n",
       "      <td>1.0</td>\n",
       "      <td>1.0</td>\n",
       "      <td>1.0</td>\n",
       "      <td>1.0</td>\n",
       "      <td>1.0</td>\n",
       "      <td>1.0</td>\n",
       "      <td>0.0</td>\n",
       "    </tr>\n",
       "    <tr>\n",
       "      <td>6</td>\n",
       "      <td>2.694232</td>\n",
       "      <td>0.176556</td>\n",
       "      <td>0.317198</td>\n",
       "      <td>0.018352</td>\n",
       "      <td>0.75</td>\n",
       "      <td>2000</td>\n",
       "      <td>1</td>\n",
       "      <td>{'tfIdf__max_df': 0.75, 'tfIdf__max_features':...</td>\n",
       "      <td>0.626543</td>\n",
       "      <td>0.625000</td>\n",
       "      <td>...</td>\n",
       "      <td>0.637855</td>\n",
       "      <td>0.013134</td>\n",
       "      <td>7</td>\n",
       "      <td>1.0</td>\n",
       "      <td>1.0</td>\n",
       "      <td>1.0</td>\n",
       "      <td>1.0</td>\n",
       "      <td>1.0</td>\n",
       "      <td>1.0</td>\n",
       "      <td>0.0</td>\n",
       "    </tr>\n",
       "    <tr>\n",
       "      <td>7</td>\n",
       "      <td>2.642260</td>\n",
       "      <td>0.051245</td>\n",
       "      <td>0.325909</td>\n",
       "      <td>0.027769</td>\n",
       "      <td>0.75</td>\n",
       "      <td>2000</td>\n",
       "      <td>2</td>\n",
       "      <td>{'tfIdf__max_df': 0.75, 'tfIdf__max_features':...</td>\n",
       "      <td>0.629630</td>\n",
       "      <td>0.618750</td>\n",
       "      <td>...</td>\n",
       "      <td>0.634700</td>\n",
       "      <td>0.014814</td>\n",
       "      <td>10</td>\n",
       "      <td>1.0</td>\n",
       "      <td>1.0</td>\n",
       "      <td>1.0</td>\n",
       "      <td>1.0</td>\n",
       "      <td>1.0</td>\n",
       "      <td>1.0</td>\n",
       "      <td>0.0</td>\n",
       "    </tr>\n",
       "    <tr>\n",
       "      <td>8</td>\n",
       "      <td>2.648706</td>\n",
       "      <td>0.059738</td>\n",
       "      <td>0.321024</td>\n",
       "      <td>0.011700</td>\n",
       "      <td>0.75</td>\n",
       "      <td>2000</td>\n",
       "      <td>3</td>\n",
       "      <td>{'tfIdf__max_df': 0.75, 'tfIdf__max_features':...</td>\n",
       "      <td>0.629630</td>\n",
       "      <td>0.618750</td>\n",
       "      <td>...</td>\n",
       "      <td>0.635962</td>\n",
       "      <td>0.015175</td>\n",
       "      <td>8</td>\n",
       "      <td>1.0</td>\n",
       "      <td>1.0</td>\n",
       "      <td>1.0</td>\n",
       "      <td>1.0</td>\n",
       "      <td>1.0</td>\n",
       "      <td>1.0</td>\n",
       "      <td>0.0</td>\n",
       "    </tr>\n",
       "    <tr>\n",
       "      <td>9</td>\n",
       "      <td>4.074784</td>\n",
       "      <td>0.278088</td>\n",
       "      <td>0.393593</td>\n",
       "      <td>0.025195</td>\n",
       "      <td>0.75</td>\n",
       "      <td>5000</td>\n",
       "      <td>1</td>\n",
       "      <td>{'tfIdf__max_df': 0.75, 'tfIdf__max_features':...</td>\n",
       "      <td>0.632716</td>\n",
       "      <td>0.612500</td>\n",
       "      <td>...</td>\n",
       "      <td>0.642271</td>\n",
       "      <td>0.017844</td>\n",
       "      <td>5</td>\n",
       "      <td>1.0</td>\n",
       "      <td>1.0</td>\n",
       "      <td>1.0</td>\n",
       "      <td>1.0</td>\n",
       "      <td>1.0</td>\n",
       "      <td>1.0</td>\n",
       "      <td>0.0</td>\n",
       "    </tr>\n",
       "    <tr>\n",
       "      <td>10</td>\n",
       "      <td>3.973797</td>\n",
       "      <td>0.104041</td>\n",
       "      <td>0.378511</td>\n",
       "      <td>0.019012</td>\n",
       "      <td>0.75</td>\n",
       "      <td>5000</td>\n",
       "      <td>2</td>\n",
       "      <td>{'tfIdf__max_df': 0.75, 'tfIdf__max_features':...</td>\n",
       "      <td>0.629630</td>\n",
       "      <td>0.618750</td>\n",
       "      <td>...</td>\n",
       "      <td>0.645426</td>\n",
       "      <td>0.018888</td>\n",
       "      <td>1</td>\n",
       "      <td>1.0</td>\n",
       "      <td>1.0</td>\n",
       "      <td>1.0</td>\n",
       "      <td>1.0</td>\n",
       "      <td>1.0</td>\n",
       "      <td>1.0</td>\n",
       "      <td>0.0</td>\n",
       "    </tr>\n",
       "    <tr>\n",
       "      <td>11</td>\n",
       "      <td>3.774943</td>\n",
       "      <td>0.089939</td>\n",
       "      <td>0.366231</td>\n",
       "      <td>0.009165</td>\n",
       "      <td>0.75</td>\n",
       "      <td>5000</td>\n",
       "      <td>3</td>\n",
       "      <td>{'tfIdf__max_df': 0.75, 'tfIdf__max_features':...</td>\n",
       "      <td>0.626543</td>\n",
       "      <td>0.621875</td>\n",
       "      <td>...</td>\n",
       "      <td>0.644164</td>\n",
       "      <td>0.016998</td>\n",
       "      <td>2</td>\n",
       "      <td>1.0</td>\n",
       "      <td>1.0</td>\n",
       "      <td>1.0</td>\n",
       "      <td>1.0</td>\n",
       "      <td>1.0</td>\n",
       "      <td>1.0</td>\n",
       "      <td>0.0</td>\n",
       "    </tr>\n",
       "  </tbody>\n",
       "</table>\n",
       "<p>12 rows × 23 columns</p>\n",
       "</div>"
      ],
      "text/plain": [
       "    mean_fit_time  std_fit_time  mean_score_time  std_score_time  \\\n",
       "0        2.666517      0.158380         0.336967        0.031486   \n",
       "1        2.641460      0.159568         0.316701        0.022883   \n",
       "2        2.623243      0.064901         0.506667        0.406354   \n",
       "3        3.848887      0.101992         0.369962        0.013280   \n",
       "4        3.899492      0.125194         0.370708        0.014967   \n",
       "5        3.857989      0.123629         0.394317        0.032608   \n",
       "6        2.694232      0.176556         0.317198        0.018352   \n",
       "7        2.642260      0.051245         0.325909        0.027769   \n",
       "8        2.648706      0.059738         0.321024        0.011700   \n",
       "9        4.074784      0.278088         0.393593        0.025195   \n",
       "10       3.973797      0.104041         0.378511        0.019012   \n",
       "11       3.774943      0.089939         0.366231        0.009165   \n",
       "\n",
       "   param_tfIdf__max_df param_tfIdf__max_features param_tfIdf__min_df  \\\n",
       "0                  0.5                      2000                   1   \n",
       "1                  0.5                      2000                   2   \n",
       "2                  0.5                      2000                   3   \n",
       "3                  0.5                      5000                   1   \n",
       "4                  0.5                      5000                   2   \n",
       "5                  0.5                      5000                   3   \n",
       "6                 0.75                      2000                   1   \n",
       "7                 0.75                      2000                   2   \n",
       "8                 0.75                      2000                   3   \n",
       "9                 0.75                      5000                   1   \n",
       "10                0.75                      5000                   2   \n",
       "11                0.75                      5000                   3   \n",
       "\n",
       "                                               params  split0_test_score  \\\n",
       "0   {'tfIdf__max_df': 0.5, 'tfIdf__max_features': ...           0.623457   \n",
       "1   {'tfIdf__max_df': 0.5, 'tfIdf__max_features': ...           0.626543   \n",
       "2   {'tfIdf__max_df': 0.5, 'tfIdf__max_features': ...           0.623457   \n",
       "3   {'tfIdf__max_df': 0.5, 'tfIdf__max_features': ...           0.629630   \n",
       "4   {'tfIdf__max_df': 0.5, 'tfIdf__max_features': ...           0.638889   \n",
       "5   {'tfIdf__max_df': 0.5, 'tfIdf__max_features': ...           0.623457   \n",
       "6   {'tfIdf__max_df': 0.75, 'tfIdf__max_features':...           0.626543   \n",
       "7   {'tfIdf__max_df': 0.75, 'tfIdf__max_features':...           0.629630   \n",
       "8   {'tfIdf__max_df': 0.75, 'tfIdf__max_features':...           0.629630   \n",
       "9   {'tfIdf__max_df': 0.75, 'tfIdf__max_features':...           0.632716   \n",
       "10  {'tfIdf__max_df': 0.75, 'tfIdf__max_features':...           0.629630   \n",
       "11  {'tfIdf__max_df': 0.75, 'tfIdf__max_features':...           0.626543   \n",
       "\n",
       "    split1_test_score  ...  mean_test_score  std_test_score  rank_test_score  \\\n",
       "0            0.621875  ...         0.632808        0.011957               12   \n",
       "1            0.621875  ...         0.634069        0.011392               11   \n",
       "2            0.625000  ...         0.635331        0.013857                9   \n",
       "3            0.621875  ...         0.644164        0.017722                2   \n",
       "4            0.612500  ...         0.643533        0.019537                4   \n",
       "5            0.628125  ...         0.641640        0.017984                6   \n",
       "6            0.625000  ...         0.637855        0.013134                7   \n",
       "7            0.618750  ...         0.634700        0.014814               10   \n",
       "8            0.618750  ...         0.635962        0.015175                8   \n",
       "9            0.612500  ...         0.642271        0.017844                5   \n",
       "10           0.618750  ...         0.645426        0.018888                1   \n",
       "11           0.621875  ...         0.644164        0.016998                2   \n",
       "\n",
       "    split0_train_score  split1_train_score  split2_train_score  \\\n",
       "0                  1.0                 1.0                 1.0   \n",
       "1                  1.0                 1.0                 1.0   \n",
       "2                  1.0                 1.0                 1.0   \n",
       "3                  1.0                 1.0                 1.0   \n",
       "4                  1.0                 1.0                 1.0   \n",
       "5                  1.0                 1.0                 1.0   \n",
       "6                  1.0                 1.0                 1.0   \n",
       "7                  1.0                 1.0                 1.0   \n",
       "8                  1.0                 1.0                 1.0   \n",
       "9                  1.0                 1.0                 1.0   \n",
       "10                 1.0                 1.0                 1.0   \n",
       "11                 1.0                 1.0                 1.0   \n",
       "\n",
       "    split3_train_score  split4_train_score  mean_train_score  std_train_score  \n",
       "0                  1.0                 1.0               1.0              0.0  \n",
       "1                  1.0                 1.0               1.0              0.0  \n",
       "2                  1.0                 1.0               1.0              0.0  \n",
       "3                  1.0                 1.0               1.0              0.0  \n",
       "4                  1.0                 1.0               1.0              0.0  \n",
       "5                  1.0                 1.0               1.0              0.0  \n",
       "6                  1.0                 1.0               1.0              0.0  \n",
       "7                  1.0                 1.0               1.0              0.0  \n",
       "8                  1.0                 1.0               1.0              0.0  \n",
       "9                  1.0                 1.0               1.0              0.0  \n",
       "10                 1.0                 1.0               1.0              0.0  \n",
       "11                 1.0                 1.0               1.0              0.0  \n",
       "\n",
       "[12 rows x 23 columns]"
      ]
     },
     "execution_count": 11,
     "metadata": {},
     "output_type": "execute_result"
    }
   ],
   "source": [
    "df2 = pd.DataFrame.from_dict(clf.cv_results_)\n",
    "df2"
   ]
  },
  {
   "cell_type": "markdown",
   "metadata": {},
   "source": [
    "Now that we have our best parameters, we'll train one model that makes use of them so that we can then use a confusion matrix to look at the actual performance by L1 family."
   ]
  },
  {
   "cell_type": "code",
   "execution_count": 12,
   "metadata": {},
   "outputs": [
    {
     "data": {
      "text/plain": [
       "Pipeline(memory=None,\n",
       "         steps=[('tfidfvectorizer',\n",
       "                 TfidfVectorizer(analyzer='word', binary=False,\n",
       "                                 decode_error='strict',\n",
       "                                 dtype=<class 'numpy.float64'>,\n",
       "                                 encoding='utf-8', input='content',\n",
       "                                 lowercase=True, max_df=0.75, max_features=5000,\n",
       "                                 min_df=2, ngram_range=(1, 1), norm='l2',\n",
       "                                 preprocessor=None, smooth_idf=True,\n",
       "                                 stop_words=None, strip_accents=None,\n",
       "                                 sublinear_tf=False,\n",
       "                                 token_pattern='(?u)\\\\b\\\\w\\\\w+\\\\b',\n",
       "                                 tokenizer=None, use_idf=True,\n",
       "                                 vocabulary=None)),\n",
       "                ('svc',\n",
       "                 SVC(C=100000.0, cache_size=200, class_weight=None, coef0=0.0,\n",
       "                     decision_function_shape='ovr', degree=3, gamma='auto',\n",
       "                     kernel='linear', max_iter=-1, probability=False,\n",
       "                     random_state=None, shrinking=True, tol=0.001,\n",
       "                     verbose=False))],\n",
       "         verbose=False)"
      ]
     },
     "execution_count": 12,
     "metadata": {},
     "output_type": "execute_result"
    }
   ],
   "source": [
    "text_train, text_test, y_train, y_test = train_test_split(df['Text'], df['L1family'], test_size = .2, random_state=0)\n",
    "\n",
    "SVC_model = make_pipeline(TfidfVectorizer(max_features = 5000, min_df=2, max_df=.75), \n",
    "                          SVC(kernel='linear', C=1E5, gamma='auto'))\n",
    "\n",
    "SVC_model.fit(text_train, y_train)"
   ]
  },
  {
   "cell_type": "code",
   "execution_count": 13,
   "metadata": {},
   "outputs": [
    {
     "data": {
      "text/plain": [
       "0.6561514195583596"
      ]
     },
     "execution_count": 13,
     "metadata": {},
     "output_type": "execute_result"
    }
   ],
   "source": [
    "# Predictions\n",
    "predictions = SVC_model.predict(text_test)\n",
    "\n",
    "# Matrix\n",
    "matrix = confusion_matrix(y_test, predictions)\n",
    "\n",
    "# Accuracy assessment\n",
    "accuracy = accuracy_score(y_test, predictions)\n",
    "accuracy"
   ]
  },
  {
   "cell_type": "code",
   "execution_count": 14,
   "metadata": {},
   "outputs": [
    {
     "data": {
      "text/plain": [
       "<Figure size 864x864 with 0 Axes>"
      ]
     },
     "execution_count": 14,
     "metadata": {},
     "output_type": "execute_result"
    },
    {
     "data": {
      "text/plain": [
       "(18.0, 0.0)"
      ]
     },
     "execution_count": 14,
     "metadata": {},
     "output_type": "execute_result"
    },
    {
     "data": {
      "text/plain": [
       "Text(0.5, 152.97257142857137, 'True L1 Family')"
      ]
     },
     "execution_count": 14,
     "metadata": {},
     "output_type": "execute_result"
    },
    {
     "data": {
      "text/plain": [
       "Text(87.0, 0.5, 'Predicted L1 Family')"
      ]
     },
     "execution_count": 14,
     "metadata": {},
     "output_type": "execute_result"
    },
    {
     "data": {
      "image/png": "[encoded data removed]",
      "text/plain": [
       "<Figure size 864x864 with 2 Axes>"
      ]
     },
     "metadata": {
      "needs_background": "light"
     },
     "output_type": "display_data"
    }
   ],
   "source": [
    "plt.figure(figsize=(12,12))\n",
    "\n",
    "ax = sns.heatmap(matrix.T, square=True, annot=True, fmt='d', cmap='Reds', annot_kws={\"size\": 14},\n",
    "            xticklabels= np.unique(df['L1family']), yticklabels= np.unique(df['L1family']))\n",
    "\n",
    "bottom, top = ax.get_ylim()\n",
    "\n",
    "ax.set_ylim(bottom + 0.5, top - 0.5) \n",
    "\n",
    "plt.xlabel('True L1 Family')\n",
    "plt.ylabel('Predicted L1 Family')\n",
    "plt.show()"
   ]
  },
  {
   "cell_type": "markdown",
   "metadata": {},
   "source": [
    "So, this leaves us with the preliminary question: how is this classifier doing? When considering that the Arabic L1 data make up 790 out of the 1,585 observations (~49.84%), an accuracy of around 65% seems not that great. We've got an almost 50% chance at getting the right label just by labeling everything as Arabic and calling it a day. Even after collpapsing the data into families, it doesn't seem like it's been able to overcome the sheer imbalance of data that's presented here for training a classifier. It does seem to be performing better on the Austronesian, Indo-Iranian, and the Kra-Dai families; here, feature union might be useful, although I still have not been able to crack how to implement it successfully. More to come, but for preliminary results, I think things are shaping up.\n",
    "\n",
    "Finally, we'll try to look at the most informative features that our model gives us. "
   ]
  },
  {
   "cell_type": "code",
   "execution_count": 15,
   "metadata": {},
   "outputs": [
    {
     "name": "stdout",
     "output_type": "stream",
     "text": [
      "Albanian: 10\n",
      "Arabic: 10\n",
      "AustroAsiatic: 10\n",
      "Austronesian: 10\n",
      "BaltoSlavic: 10\n",
      "Chadic: 10\n",
      "Cushitic: 10\n",
      "Dravidian: 10\n",
      "Germanic: 10\n",
      "IndoIran: 10\n",
      "Italic: 10\n",
      "Koreanic: 10\n",
      "KraDai: 10\n",
      "NigerCongo: 10\n",
      "NiloSahar: 10\n",
      "SinoTib: 10\n",
      "Turkic: 10\n",
      "Unclassified: 10\n"
     ]
    }
   ],
   "source": [
    "# Thank you, stack overflow\n",
    "# https://stackoverflow.com/questions/11116697/how-to-get-most-informative-features-for-scikit-learn-classifiers\n",
    "\n",
    "# modified to handle n-grams and flexible top number\n",
    "def print_top(vectorizer, clf, class_labels, n):\n",
    "    \"\"\"Prints features with the highest coefficient values, per class\"\"\"\n",
    "    feature_names = vectorizer.get_feature_names()\n",
    "    for i, class_label in enumerate(class_labels):\n",
    "        top = np.argsort(clf.coef_[i])[0-n:]\n",
    "        print(\"%s: %s\" % (class_label,\n",
    "              \", \".join(feature_names[j].replace(' ', '-') for j in top)))\n",
    "             # ^ comma-separate                      ^^^ hyphenate multi-word features (=n-grams) if any \n",
    "\n",
    "# Vectorizer and classifier are steps in the pipeline. Must retrieve. \n",
    "vzr = SVC_model.steps[0][1] \n",
    "clf = SVC_model.steps[1][1] \n",
    "\n",
    "print_top(vzr, clf, clf.classes_, 20)"
   ]
  },
  {
   "cell_type": "markdown",
   "metadata": {},
   "source": [
    "Unfortunately, it looks like this isn't working out quite right with my model; I'm not sure SVC is compatible with this. The original code used a Multinominal Naive Bayes model for classification instead of SVC."
   ]
  }
 ],
 "metadata": {
  "kernelspec": {
   "display_name": "Python 3",
   "language": "python",
   "name": "python3"
  },
  "language_info": {
   "codemirror_mode": {
    "name": "ipython",
    "version": 3
   },
   "file_extension": ".py",
   "mimetype": "text/x-python",
   "name": "python",
   "nbconvert_exporter": "python",
   "pygments_lexer": "ipython3",
   "version": "3.7.4"
  }
 },
 "nbformat": 4,
 "nbformat_minor": 2
}
