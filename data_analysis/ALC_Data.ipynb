{
 "cells": [
  {
   "cell_type": "markdown",
   "metadata": {},
   "source": [
    "# Arabic Learner Corpus Considerations: Data Organization and Cleaning\n",
    "Anthony Verardi | a.verardi@pitt.edu | 2/24/2020 | University of Pittsburgh"
   ]
  },
  {
   "cell_type": "markdown",
   "metadata": {},
   "source": [
    "The following notebook reads in textual data and metadata from the [Arabic Learner Corpus](https://www.arabiclearnercorpus.com/) for further exploration."
   ]
  },
  {
   "cell_type": "code",
   "execution_count": 1,
   "metadata": {},
   "outputs": [],
   "source": [
    "# Importing necessary packages to begin reading in our data. The files come in XML format,\n",
    "# so we'll need to import a library that can read them in and get the data ready for input into a DataFrame\n",
    "\n",
    "import nltk, glob, re\n",
    "import pandas as pd\n",
    "import numpy as np\n",
    "from bs4 import BeautifulSoup\n",
    "\n",
    "# Allowing for multiple lines of output\n",
    "from IPython.core.interactiveshell import InteractiveShell\n",
    "InteractiveShell.ast_node_interactivity = \"all\""
   ]
  },
  {
   "cell_type": "code",
   "execution_count": 2,
   "metadata": {},
   "outputs": [
    {
     "name": "stdout",
     "output_type": "stream",
     "text": [
      "Pretty printing has been turned OFF\n"
     ]
    }
   ],
   "source": [
    "%pprint"
   ]
  },
  {
   "cell_type": "code",
   "execution_count": 3,
   "metadata": {},
   "outputs": [],
   "source": [
    "# Setting up our corpus directory\n",
    "cor_dir = '../../Arabic-Learner-Corpus-Considerations/test_data/'\n",
    "\n",
    "#C:\\Users\\Anthony\\Documents\\dataSci2020\\Arabic-Learner-Corpus-Considerations\\private\\ALC Texts"
   ]
  },
  {
   "cell_type": "code",
   "execution_count": 4,
   "metadata": {},
   "outputs": [
    {
     "name": "stdout",
     "output_type": "stream",
     "text": [
      "<?xml version=\"1.0\" encoding=\"utf-8\"?>\n",
      "\n"
     ]
    }
   ],
   "source": [
    "infile = open(cor_dir+\"TEST.xml\",\"r\")\n",
    "contents = infile.read()\n",
    "infile.close()\n",
    "soup = BeautifulSoup(contents,'xml')\n",
    "print(soup)"
   ]
  },
  {
   "cell_type": "markdown",
   "metadata": {},
   "source": [
    "Right now, I can only get `BeautifulSoup` to read in the very first line of the test XML file. I followed a brief tutorial that used a toy XML file and it parsed that just fine, so I'm not sure what the issue is here. I created a `TEST.xml` file based on the first item in the actual corpus to play with, but no deletion fixed the parsing issue. I need to sort this out in order to move forward, but so far, nothing's come up helpful.\n",
    "\n",
    "The goal right now is to get the XML data loaded into a `DataFrame` object in `pandas` so that I can do some statistical analyses on the learner samples."
   ]
  }
 ],
 "metadata": {
  "kernelspec": {
   "display_name": "Python 3",
   "language": "python",
   "name": "python3"
  },
  "language_info": {
   "codemirror_mode": {
    "name": "ipython",
    "version": 3
   },
   "file_extension": ".py",
   "mimetype": "text/x-python",
   "name": "python",
   "nbconvert_exporter": "python",
   "pygments_lexer": "ipython3",
   "version": "3.7.4"
  }
 },
 "nbformat": 4,
 "nbformat_minor": 2
}
